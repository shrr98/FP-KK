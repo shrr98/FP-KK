{
  "nbformat": 4,
  "nbformat_minor": 0,
  "metadata": {
    "colab": {
      "name": "orthopedic_pso.ipynb",
      "provenance": [],
      "collapsed_sections": [],
      "include_colab_link": true
    },
    "kernelspec": {
      "name": "python3",
      "display_name": "Python 3"
    },
    "accelerator": "GPU"
  },
  "cells": [
    {
      "cell_type": "markdown",
      "metadata": {
        "id": "view-in-github",
        "colab_type": "text"
      },
      "source": [
        "<a href=\"https://colab.research.google.com/github/shrr98/FP-KK/blob/master/orthopedic_pso.ipynb\" target=\"_parent\"><img src=\"https://colab.research.google.com/assets/colab-badge.svg\" alt=\"Open In Colab\"/></a>"
      ]
    },
    {
      "cell_type": "code",
      "metadata": {
        "id": "FT9Upjkj-LBl",
        "colab_type": "code",
        "colab": {
          "base_uri": "https://localhost:8080/",
          "height": 34
        },
        "outputId": "773c58f9-ab9e-406e-de8b-14cc5aa27f42"
      },
      "source": [
        "from google.colab import drive\n",
        "drive.mount('/content/drive')"
      ],
      "execution_count": 1,
      "outputs": [
        {
          "output_type": "stream",
          "text": [
            "Drive already mounted at /content/drive; to attempt to forcibly remount, call drive.mount(\"/content/drive\", force_remount=True).\n"
          ],
          "name": "stdout"
        }
      ]
    },
    {
      "cell_type": "code",
      "metadata": {
        "id": "yNt8BoAi-hsW",
        "colab_type": "code",
        "colab": {}
      },
      "source": [
        "import pandas as pd"
      ],
      "execution_count": 0,
      "outputs": []
    },
    {
      "cell_type": "code",
      "metadata": {
        "id": "X131y9Uk-jOD",
        "colab_type": "code",
        "colab": {}
      },
      "source": [
        "df = pd.read_csv('/content/drive/My Drive/Kuliahku/KK/column_3C_weka.csv')"
      ],
      "execution_count": 0,
      "outputs": []
    },
    {
      "cell_type": "code",
      "metadata": {
        "id": "U578xHFO-k4-",
        "colab_type": "code",
        "colab": {
          "base_uri": "https://localhost:8080/",
          "height": 247
        },
        "outputId": "b1f035db-d828-4308-b4a4-d02727ebf96b"
      },
      "source": [
        "import numpy as np\n",
        "\n",
        "arr = df.to_numpy()\n",
        "\n",
        "arr"
      ],
      "execution_count": 4,
      "outputs": [
        {
          "output_type": "execute_result",
          "data": {
            "text/plain": [
              "array([[63.027817500000005, 22.55258597, 39.60911701, ..., 98.67291675,\n",
              "        -0.254399986, 'Hernia'],\n",
              "       [39.05695098, 10.06099147, 25.01537822, ..., 114.4054254,\n",
              "        4.564258645, 'Hernia'],\n",
              "       [68.83202098, 22.21848205, 50.09219357, ..., 105.9851355,\n",
              "        -3.530317314, 'Hernia'],\n",
              "       ...,\n",
              "       [61.44659663, 22.694968300000003, 46.17034732, ..., 125.6707246,\n",
              "        -2.707879517, 'Normal'],\n",
              "       [45.25279209, 8.693157364, 41.5831264, ..., 118.5458418,\n",
              "        0.214750167, 'Normal'],\n",
              "       [33.84164075, 5.073991409, 36.64123294, ..., 123.9452436,\n",
              "        -0.199249089, 'Normal']], dtype=object)"
            ]
          },
          "metadata": {
            "tags": []
          },
          "execution_count": 4
        }
      ]
    },
    {
      "cell_type": "markdown",
      "metadata": {
        "id": "F9z21SmCyaBT",
        "colab_type": "text"
      },
      "source": [
        "# Shuffle datasets per class"
      ]
    },
    {
      "cell_type": "code",
      "metadata": {
        "id": "2E2f53Sqyeww",
        "colab_type": "code",
        "colab": {
          "base_uri": "https://localhost:8080/",
          "height": 247
        },
        "outputId": "c61409ae-4dc7-4e3f-d351-72cf1125be19"
      },
      "source": [
        "n_hernia = 60\n",
        "n_normal = 100\n",
        "n_spondyl = 150\n",
        "\n",
        "start = 0\n",
        "for x in (n_hernia, n_spondyl, n_normal):\n",
        "  np.random.shuffle(arr[start:start + x])\n",
        "  start += x\n",
        "\n",
        "arr"
      ],
      "execution_count": 5,
      "outputs": [
        {
          "output_type": "execute_result",
          "data": {
            "text/plain": [
              "array([[54.12492019, 26.65048856, 35.32974693, ..., 121.447011,\n",
              "        1.5712048159999998, 'Hernia'],\n",
              "       [63.027817500000005, 22.55258597, 39.60911701, ..., 98.67291675,\n",
              "        -0.254399986, 'Hernia'],\n",
              "       [50.81926781, 15.40221253, 42.52893886, ..., 112.19280400000001,\n",
              "        10.86956554, 'Hernia'],\n",
              "       ...,\n",
              "       [65.7563482, 13.20692644, 43.99999999, ..., 129.3935728,\n",
              "        -1.9821200380000001, 'Normal'],\n",
              "       [30.74193812, 13.35496594, 35.90352597, ..., 142.4101072,\n",
              "        -2.005372903, 'Normal'],\n",
              "       [42.51561014, 16.54121618, 41.99999999, ..., 120.631941,\n",
              "        7.876730692000001, 'Normal']], dtype=object)"
            ]
          },
          "metadata": {
            "tags": []
          },
          "execution_count": 5
        }
      ]
    },
    {
      "cell_type": "code",
      "metadata": {
        "id": "DpntqbSM-yQF",
        "colab_type": "code",
        "colab": {
          "base_uri": "https://localhost:8080/",
          "height": 105
        },
        "outputId": "58f10e21-fe3f-4c83-9b4f-e5db8f158ed4"
      },
      "source": [
        "val_split = 0.2\n",
        "test_split = 0.2\n",
        "\n",
        "val_set = None\n",
        "train_set = None\n",
        "test_set = None\n",
        "processed = 0\n",
        "\n",
        "for x in (n_hernia, n_spondyl, n_normal ):\n",
        "  n_val = int(val_split * x)\n",
        "  n_test = int(test_split * x)\n",
        "  if processed==0:\n",
        "    val_set = np.array(arr[processed:processed + n_val, :])\n",
        "    processed += n_val\n",
        "    test_set = np.array(arr[processed:processed + n_test, :])\n",
        "    train_set = np.array(arr[processed:processed + x - n_val - n_test, :])\n",
        "    processed += x - n_val - n_test\n",
        "    continue\n",
        "  val_set = np.concatenate((val_set, arr[processed:processed + n_val, :]))\n",
        "  processed += n_val\n",
        "  test_set = np.concatenate((test_set, arr[processed:processed + n_test, :]))\n",
        "  train_set = np.concatenate((train_set, arr[processed : processed + (x - n_val - n_test), :]))\n",
        "  processed += x - n_val - n_test\n",
        "  print(val_set.shape)\n",
        "\n",
        "print(f'Train : {train_set.shape}')\n",
        "print(f'Val : {val_set.shape}')\n",
        "print(f'Test : {test_set.shape}')"
      ],
      "execution_count": 6,
      "outputs": [
        {
          "output_type": "stream",
          "text": [
            "(42, 7)\n",
            "(62, 7)\n",
            "Train : (186, 7)\n",
            "Val : (62, 7)\n",
            "Test : (62, 7)\n"
          ],
          "name": "stdout"
        }
      ]
    },
    {
      "cell_type": "code",
      "metadata": {
        "id": "fnid1cAl-0Gf",
        "colab_type": "code",
        "colab": {
          "base_uri": "https://localhost:8080/",
          "height": 70
        },
        "outputId": "5650764d-5c73-49a8-c72c-fa6baf968f90"
      },
      "source": [
        "x_train = np.array(train_set[:,:6], dtype=np.float32)\n",
        "y_train = train_set[:, 6]\n",
        "\n",
        "x_val = np.array(val_set[:,:6], dtype=np.float32)\n",
        "y_val = val_set[:,6]\n",
        "\n",
        "x_test = np.array(test_set[:,:6], dtype=np.float32)\n",
        "y_test = test_set[:,6]\n",
        "\n",
        "print(x_train.shape, y_train.shape)\n",
        "print(x_val.shape, y_val.shape)\n",
        "print(x_test.shape, y_test.shape)\n"
      ],
      "execution_count": 7,
      "outputs": [
        {
          "output_type": "stream",
          "text": [
            "(186, 6) (186,)\n",
            "(62, 6) (62,)\n",
            "(62, 6) (62,)\n"
          ],
          "name": "stdout"
        }
      ]
    },
    {
      "cell_type": "code",
      "metadata": {
        "id": "GDj2W53Q-2_k",
        "colab_type": "code",
        "colab": {}
      },
      "source": [
        "for i in range(x_train.shape[1]):\n",
        "  mini = np.min(x_train[:,i])\n",
        "  maxi = np.max(x_train[:,i])\n",
        "  mean = np.mean(x_train[:,i])\n",
        "  x_train[:,i] = np.subtract(x_train[:,i], mean) / float(maxi-mini)\n",
        "  \n",
        "  mini = np.min(x_val[:,i])\n",
        "  maxi = np.max(x_val[:,i])\n",
        "  mean = np.mean(x_val[:,i])\n",
        "  x_val[:,i] = np.subtract(x_val[:,i], mean) / float(maxi-mini)\n",
        "\n",
        "  mini = np.min(x_test[:,i])\n",
        "  maxi = np.max(x_test[:,i])\n",
        "  mean = np.mean(x_test[:,i])\n",
        "  x_test[:,i] = np.subtract(x_test[:,i], mean) / float(maxi-mini)"
      ],
      "execution_count": 0,
      "outputs": []
    },
    {
      "cell_type": "code",
      "metadata": {
        "id": "qG4KmWU2-5fV",
        "colab_type": "code",
        "colab": {
          "base_uri": "https://localhost:8080/",
          "height": 247
        },
        "outputId": "1631873c-b051-409d-88c7-8994e7aa06a8"
      },
      "source": [
        "!pip install pyswarms\n",
        "# Import modules\n",
        "import numpy as np\n",
        "import matplotlib.pyplot as plt\n",
        "from sklearn.datasets import load_iris\n",
        "\n",
        "\n",
        "# Import PySwarms\n",
        "import pyswarms as ps\n",
        "\n",
        "# Some more magic so that the notebook will reload external python modules;\n",
        "# see http://stackoverflow.com/questions/1907993/autoreload-of-modules-in-ipython\n",
        "%load_ext autoreload\n",
        "%autoreload 2"
      ],
      "execution_count": 9,
      "outputs": [
        {
          "output_type": "stream",
          "text": [
            "Requirement already satisfied: pyswarms in /usr/local/lib/python3.6/dist-packages (1.1.0)\n",
            "Requirement already satisfied: numpy in /usr/local/lib/python3.6/dist-packages (from pyswarms) (1.17.4)\n",
            "Requirement already satisfied: tqdm in /usr/local/lib/python3.6/dist-packages (from pyswarms) (4.28.1)\n",
            "Requirement already satisfied: attrs in /usr/local/lib/python3.6/dist-packages (from pyswarms) (19.3.0)\n",
            "Requirement already satisfied: future in /usr/local/lib/python3.6/dist-packages (from pyswarms) (0.16.0)\n",
            "Requirement already satisfied: scipy in /usr/local/lib/python3.6/dist-packages (from pyswarms) (1.3.3)\n",
            "Requirement already satisfied: matplotlib>=1.3.1 in /usr/local/lib/python3.6/dist-packages (from pyswarms) (3.1.2)\n",
            "Requirement already satisfied: cycler>=0.10 in /usr/local/lib/python3.6/dist-packages (from matplotlib>=1.3.1->pyswarms) (0.10.0)\n",
            "Requirement already satisfied: python-dateutil>=2.1 in /usr/local/lib/python3.6/dist-packages (from matplotlib>=1.3.1->pyswarms) (2.6.1)\n",
            "Requirement already satisfied: pyparsing!=2.0.4,!=2.1.2,!=2.1.6,>=2.0.1 in /usr/local/lib/python3.6/dist-packages (from matplotlib>=1.3.1->pyswarms) (2.4.5)\n",
            "Requirement already satisfied: kiwisolver>=1.0.1 in /usr/local/lib/python3.6/dist-packages (from matplotlib>=1.3.1->pyswarms) (1.1.0)\n",
            "Requirement already satisfied: six in /usr/local/lib/python3.6/dist-packages (from cycler>=0.10->matplotlib>=1.3.1->pyswarms) (1.12.0)\n",
            "Requirement already satisfied: setuptools in /usr/local/lib/python3.6/dist-packages (from kiwisolver>=1.0.1->matplotlib>=1.3.1->pyswarms) (42.0.1)\n"
          ],
          "name": "stdout"
        }
      ]
    },
    {
      "cell_type": "code",
      "metadata": {
        "id": "FaCIgxLt_J9i",
        "colab_type": "code",
        "colab": {}
      },
      "source": [
        "classes = np.unique(train_set[:,6])\n",
        "\n",
        "y_val = np.array([np.where(classes==x)[0][0] for x in y_val])\n",
        "\n",
        "y_train = np.array([np.where(classes==x)[0][0] for x in y_train])\n",
        "\n",
        "y_test = np.array([np.where(classes == x)[0][0] for x in y_test])"
      ],
      "execution_count": 0,
      "outputs": []
    },
    {
      "cell_type": "code",
      "metadata": {
        "id": "C4nPPTlQcQoz",
        "colab_type": "code",
        "colab": {}
      },
      "source": [
        "    # Neural network architecture\n",
        "    n_inputs = 6\n",
        "    n_hidden = 20\n",
        "    n_classes = 3\n"
      ],
      "execution_count": 0,
      "outputs": []
    },
    {
      "cell_type": "code",
      "metadata": {
        "id": "s9UbB7uDh9QM",
        "colab_type": "code",
        "colab": {}
      },
      "source": [
        "pos_best_val = np.zeros((n_inputs*n_hidden + n_hidden + n_hidden*n_classes + n_classes), dtype=np.float32)\n",
        "acc_best_val = 0"
      ],
      "execution_count": 0,
      "outputs": []
    },
    {
      "cell_type": "code",
      "metadata": {
        "id": "ysxKdvWz_N4K",
        "colab_type": "code",
        "colab": {}
      },
      "source": [
        " # Forward propagation\n",
        "def forward_prop(params):\n",
        "    \"\"\"Forward propagation as objective function\n",
        "\n",
        "    This computes for the forward propagation of the neural network, as\n",
        "    well as the loss. It receives a set of parameters that must be\n",
        "    rolled-back into the corresponding weights and biases.\n",
        "\n",
        "    Inputs\n",
        "    ------\n",
        "    params: np.ndarray\n",
        "        The dimensions should include an unrolled version of the\n",
        "        weights and biases.\n",
        "\n",
        "    Returns\n",
        "    -------\n",
        "    float\n",
        "        The computed negative log-likelihood loss given the parameters\n",
        "    \"\"\"\n",
        "    # Roll-back the weights and biases\n",
        "    start = 0\n",
        "    W1 = params[0:n_inputs * n_hidden].reshape((n_inputs,n_hidden))\n",
        "    start += n_inputs * n_hidden\n",
        "    b1 = params[start:start + n_hidden].reshape((n_hidden,))\n",
        "    start += n_hidden\n",
        "    W2 = params[start:start + n_hidden * n_classes].reshape((n_hidden,n_classes))\n",
        "    start += n_hidden * n_classes\n",
        "    b2 = params[start:start + n_classes].reshape((n_classes,))\n",
        "\n",
        "    # Perform forward propagation\n",
        "    z1 = x_train.dot(W1) + b1  # Pre-activation in Layer 1\n",
        "    a1 = np.tanh(z1)     # Activation in Layer 1\n",
        "    z2 = a1.dot(W2) + b2 # Pre-activation in Layer 2\n",
        "    logits = z2          # Logits for Layer 2\n",
        "\n",
        "    # Compute for the softmax of the logits\n",
        "    exp_scores = np.exp(logits)\n",
        "    probs = exp_scores / np.sum(exp_scores, axis=1, keepdims=True)\n",
        "\n",
        "    # Compute for the negative log likelihood\n",
        "    N = x_train.shape[0] # Number of samples\n",
        "    corect_logprobs = -np.log(probs[range(N), y_train])\n",
        "    loss = np.sum(corect_logprobs) / N\n",
        "\n",
        "    global pos_best_val\n",
        "    global acc_best_val\n",
        "    acc = (predict(x_val, params) == y_val).mean()\n",
        "    if acc > acc_best_val:\n",
        "      acc_best_val = acc\n",
        "      pos_best_val = np.array(params)\n",
        "\n",
        "    return loss"
      ],
      "execution_count": 0,
      "outputs": []
    },
    {
      "cell_type": "code",
      "metadata": {
        "id": "oGZiSnqI_eck",
        "colab_type": "code",
        "colab": {}
      },
      "source": [
        "def predict(X, params):\n",
        "\n",
        "    # Roll-back the weights and biases\n",
        "    start = 0\n",
        "    W1 = params[0:n_inputs * n_hidden].reshape((n_inputs,n_hidden))\n",
        "    start += n_inputs * n_hidden\n",
        "    b1 = params[start:start + n_hidden].reshape((n_hidden,))\n",
        "    start += n_hidden\n",
        "    W2 = params[start:start + n_hidden * n_classes].reshape((n_hidden,n_classes))\n",
        "    start += n_hidden * n_classes\n",
        "    b2 = params[start:start + n_classes].reshape((n_classes,))\n",
        "\n",
        "    # Perform forward propagation\n",
        "    z1 = X.dot(W1) + b1  # Pre-activation in Layer 1\n",
        "    a1 = np.tanh(z1)     # Activation in Layer 1\n",
        "    z2 = a1.dot(W2) + b2 # Pre-activation in Layer 2\n",
        "    logits = z2          # Logits for Layer 2\n",
        "\n",
        "    y_pred = np.argmax(logits, axis=1)\n",
        "    return y_pred"
      ],
      "execution_count": 0,
      "outputs": []
    },
    {
      "cell_type": "code",
      "metadata": {
        "id": "7egUJlLv_Zuj",
        "colab_type": "code",
        "colab": {}
      },
      "source": [
        "def f(x):\n",
        "    \"\"\"Higher-level method to do forward_prop in the\n",
        "    whole swarm.\n",
        "\n",
        "    Inputs\n",
        "    ------\n",
        "    x: numpy.ndarray of shape (n_particles, dimensions)\n",
        "        The swarm that will perform the search\n",
        "\n",
        "    Returns\n",
        "    -------\n",
        "    numpy.ndarray of shape (n_particles, )\n",
        "        The computed loss for each particle\n",
        "    \"\"\"\n",
        "    n_particles = x.shape[0]\n",
        "    j = [forward_prop(x[i]) for i in range(n_particles)]\n",
        "    return np.array(j)"
      ],
      "execution_count": 0,
      "outputs": []
    },
    {
      "cell_type": "code",
      "metadata": {
        "id": "9FH30nnk_cFE",
        "colab_type": "code",
        "colab": {
          "base_uri": "https://localhost:8080/",
          "height": 978
        },
        "outputId": "c20ac92e-542e-40f7-b5c7-c4dd6f36724a"
      },
      "source": [
        "# Initialize swarm\n",
        "options = {'c1': 0.5, 'c2': 0.3, 'w':0.9}\n",
        "\n",
        "# Call instance of PSO\n",
        "dimensions = (n_inputs * 20) + (20 * 3) + 20 + 3\n",
        "optimizer = ps.single.GlobalBestPSO(n_particles=200, dimensions=dimensions, options=options)\n",
        "\n",
        "# Perform optimization\n",
        "cost, pos = optimizer.optimize(f, iters=1000)"
      ],
      "execution_count": 16,
      "outputs": [
        {
          "output_type": "stream",
          "text": [
            "2019-12-09 00:09:42,472 - pyswarms.single.global_best - INFO - Optimize for 1000 iters with {'c1': 0.5, 'c2': 0.3, 'w': 0.9}\n",
            "pyswarms.single.global_best: 100%|██████████|1000/1000, best_cost=0.162\n",
            "2019-12-09 00:10:43,543 - pyswarms.single.global_best - INFO - Optimization finished | best cost: 0.1619051332768464, best pos: [-5.46203384e-01 -1.01964247e-01 -6.93633546e-01  4.60834176e-01\n",
            " -7.39998204e-01  1.81605358e-01 -1.38306168e+00 -1.02044583e+00\n",
            "  1.74447566e+00  1.68378792e+00 -1.77998512e+03  2.34208449e+00\n",
            "  8.86757625e-01  9.34693134e-01  2.96943051e+00 -1.61644160e-01\n",
            "  1.21301581e+00  2.15521964e+00 -2.33850392e-01  2.59490447e+00\n",
            " -3.41537855e-01 -1.55950819e+00  4.03426372e+00  1.30253903e+00\n",
            "  6.20517286e-01  4.33085873e+00  1.66364162e+00 -3.60178646e-01\n",
            " -2.29560450e+00 -7.34874827e-01 -2.54520998e+00  8.10820447e+00\n",
            "  1.64634716e+00  1.54965308e+00  6.74065655e-01 -1.74163828e-01\n",
            "  1.07596407e+00 -1.73844401e+00  9.01358590e-01  1.76997186e+00\n",
            "  1.57057236e-01 -3.55774661e+00  1.30647158e+00  5.03056482e-03\n",
            " -3.55544726e-01 -4.04789485e+00 -7.47496693e-02  7.09767841e-03\n",
            " -3.73697745e-01  4.23364948e-01  1.17281157e+00  1.16282638e+00\n",
            "  1.83078354e+00  9.50843276e-01  1.61728587e+00  8.78115724e-01\n",
            "  1.09264393e+00 -2.54633861e+00 -4.37105854e-01  2.00449354e-02\n",
            "  1.51061085e+00  3.26892218e+00  6.09883788e-02 -4.00903218e-01\n",
            "  1.60242818e-01 -8.30685478e+00  3.26039956e+00  4.07553046e-01\n",
            " -5.21902983e-01  7.28732238e-01  4.93777576e-01 -5.89697279e-01\n",
            "  1.98874986e+00  1.29764564e+00  3.08689618e+00 -1.09845306e+00\n",
            "  2.07233097e+00  1.89886359e+00 -1.26374167e+00  2.05155072e-02\n",
            "  3.00548255e-01 -9.62227413e-01  2.41187723e-01  4.04298792e+00\n",
            "  2.54585333e+00 -1.17828840e+00  6.46203608e-01  8.71399414e-01\n",
            "  6.64539526e-01 -5.83175986e-02 -2.07718203e+03 -2.34580732e+00\n",
            " -1.05637099e+00  1.19942836e-02  1.96239198e+00  1.48212937e+00\n",
            "  2.13865843e+00  3.97322340e-01  7.44300730e-01 -3.50077402e+00\n",
            "  5.26104168e+00  1.00203221e+00 -4.92648741e+00 -5.72463531e-02\n",
            " -2.14841474e+00  1.94384555e+00  8.16657952e-01  1.28323314e+00\n",
            "  3.89414484e+00 -1.54119572e+00 -2.90906932e-01  7.03292294e-01\n",
            "  7.88646844e-01 -3.88832253e+00  2.91765344e-01  1.56699705e+00\n",
            "  3.93589797e-01  7.24508320e-01  3.50239136e+00 -1.34734360e+00\n",
            "  4.97226636e-01  4.06250886e+00 -3.15540585e+00  5.08776972e-01\n",
            "  9.89767888e-01  1.65762449e-01  2.60629742e+00  1.16209299e+00\n",
            "  2.14401255e-01  3.54648409e+00  5.12925211e-01 -3.87114450e-01\n",
            " -6.51642529e-01  2.24563630e+00  2.88219387e+00  2.18812903e+00\n",
            "  3.19068379e+00  8.87527137e-01 -2.04487583e-01 -3.99717798e-01\n",
            " -8.14139084e-01 -4.50006469e-01  2.75861420e+01 -3.38375912e+00\n",
            "  5.02637667e+00 -9.30225925e-01 -1.30222436e+00  2.08515333e+00\n",
            " -2.92406835e+00 -1.13759046e-02  5.83020187e+00 -2.98060773e-01\n",
            "  2.36697187e+00 -1.98508310e+00 -2.30511373e+00  2.13982454e+00\n",
            " -4.66109763e+00  1.22380156e+00  1.37275791e+00 -6.04911894e-01\n",
            "  1.78743859e+00  1.04912545e+00  1.26748004e+00  6.26631361e-01\n",
            " -1.73502316e+00 -9.73798360e-01  8.28993680e-01  5.37140993e+00\n",
            "  4.61609895e+00  2.00317094e+00  3.74006119e+00  2.68864807e+00\n",
            "  1.08414943e+00  7.99396792e-01 -6.12610910e-01  4.56422004e+00\n",
            "  1.43899557e+00 -4.99836578e-01  2.78655300e-01 -8.28652026e-02\n",
            "  2.59654974e-01 -4.61538823e-01 -3.89811521e-02 -7.00818662e-01\n",
            "  1.45407347e+00  7.53316368e-01  1.57987227e+00 -9.46705075e-01\n",
            "  1.06851849e+00 -8.76958731e-01  1.16810296e+00  1.40182743e-01\n",
            "  8.68546971e-01  3.51400228e+00 -7.16319145e-01 -3.38972263e-01\n",
            "  4.14431890e+00  2.47172635e+00 -6.18967114e-01  1.96255100e+00\n",
            "  1.61210257e+00  1.61340571e+00  1.31427398e+00]\n"
          ],
          "name": "stderr"
        }
      ]
    },
    {
      "cell_type": "markdown",
      "metadata": {
        "id": "tmvQz0e69-_9",
        "colab_type": "text"
      },
      "source": [
        "# Accuracies on best position from training set only"
      ]
    },
    {
      "cell_type": "code",
      "metadata": {
        "id": "5cVoIHCGfkYe",
        "colab_type": "code",
        "colab": {
          "base_uri": "https://localhost:8080/",
          "height": 34
        },
        "outputId": "cff5075e-6756-4267-a990-bf9a96d2063b"
      },
      "source": [
        "print(f'Accuracy on Training set: {(predict(x_train, pos) == y_train).mean()}')"
      ],
      "execution_count": 17,
      "outputs": [
        {
          "output_type": "stream",
          "text": [
            "Accuracy on Training set: 0.9247311827956989\n"
          ],
          "name": "stdout"
        }
      ]
    },
    {
      "cell_type": "code",
      "metadata": {
        "id": "qmPrRssQZfz_",
        "colab_type": "code",
        "colab": {
          "base_uri": "https://localhost:8080/",
          "height": 34
        },
        "outputId": "26d56b04-5594-4bc9-b844-16b063ba476d"
      },
      "source": [
        "print(f'Accuracy on Validation set: {(predict(x_val, pos) == y_val).mean()}')"
      ],
      "execution_count": 18,
      "outputs": [
        {
          "output_type": "stream",
          "text": [
            "Accuracy on Validation set: 0.8387096774193549\n"
          ],
          "name": "stdout"
        }
      ]
    },
    {
      "cell_type": "code",
      "metadata": {
        "id": "68vUThQq-J6Q",
        "colab_type": "code",
        "colab": {
          "base_uri": "https://localhost:8080/",
          "height": 34
        },
        "outputId": "55e012b6-f81b-407b-ba3d-89a9621cec3d"
      },
      "source": [
        "print(f'Accuracy on Test set: {(predict(x_test, pos) == y_test).mean()}')"
      ],
      "execution_count": 19,
      "outputs": [
        {
          "output_type": "stream",
          "text": [
            "Accuracy on Test set: 0.8064516129032258\n"
          ],
          "name": "stdout"
        }
      ]
    },
    {
      "cell_type": "markdown",
      "metadata": {
        "id": "w0oR-rSI-Pm1",
        "colab_type": "text"
      },
      "source": [
        "# Accuracies on best position on maximum validation accuracy"
      ]
    },
    {
      "cell_type": "code",
      "metadata": {
        "id": "caN7WKCWs6y3",
        "colab_type": "code",
        "colab": {
          "base_uri": "https://localhost:8080/",
          "height": 34
        },
        "outputId": "887f1c83-d792-45c2-bc6d-7cbbd7b329ed"
      },
      "source": [
        "print(f'Accuracy on Training set: {(predict(x_train, pos_best_val) == y_train).mean()}')"
      ],
      "execution_count": 20,
      "outputs": [
        {
          "output_type": "stream",
          "text": [
            "Accuracy on Training set: 0.6720430107526881\n"
          ],
          "name": "stdout"
        }
      ]
    },
    {
      "cell_type": "code",
      "metadata": {
        "id": "gX5ewuKRkmJq",
        "colab_type": "code",
        "colab": {
          "base_uri": "https://localhost:8080/",
          "height": 34
        },
        "outputId": "6628d151-ad52-4cf3-9b51-4c85e2040f73"
      },
      "source": [
        "print(f'Accuracy on Validation set: {(predict(x_val, pos_best_val) == y_val).mean()}')"
      ],
      "execution_count": 21,
      "outputs": [
        {
          "output_type": "stream",
          "text": [
            "Accuracy on Validation set: 1.0\n"
          ],
          "name": "stdout"
        }
      ]
    },
    {
      "cell_type": "code",
      "metadata": {
        "id": "VXdthOqQ-bHD",
        "colab_type": "code",
        "colab": {
          "base_uri": "https://localhost:8080/",
          "height": 34
        },
        "outputId": "6be31f6c-8ab1-46aa-d6b3-1fd017a5d770"
      },
      "source": [
        "print(f'Accuracy on Test set: {(predict(x_test, pos_best_val) == y_test).mean()}')\n"
      ],
      "execution_count": 22,
      "outputs": [
        {
          "output_type": "stream",
          "text": [
            "Accuracy on Test set: 0.9193548387096774\n"
          ],
          "name": "stdout"
        }
      ]
    },
    {
      "cell_type": "markdown",
      "metadata": {
        "id": "cwSSgySUxwky",
        "colab_type": "text"
      },
      "source": [
        "# Save weights"
      ]
    },
    {
      "cell_type": "code",
      "metadata": {
        "id": "rtgTMzRGwqU6",
        "colab_type": "code",
        "colab": {}
      },
      "source": [
        "import codecs, json\n",
        "\n",
        "file_path = \"/content/drive/My Drive/Kuliahku/KK/weights1_bestpos.json\"\n",
        "json.dump(pos.tolist(), codecs.open(file_path, 'w', encoding='utf-8'), separators=(',', ':'), sort_keys=True, indent=4) ### this saves the array in .json format"
      ],
      "execution_count": 0,
      "outputs": []
    },
    {
      "cell_type": "code",
      "metadata": {
        "id": "huIO7wD9AYY6",
        "colab_type": "code",
        "colab": {}
      },
      "source": [
        ""
      ],
      "execution_count": 0,
      "outputs": []
    }
  ]
}