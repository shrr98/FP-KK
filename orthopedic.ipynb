{
  "nbformat": 4,
  "nbformat_minor": 0,
  "metadata": {
    "colab": {
      "name": "orthopedic.ipynb",
      "provenance": [],
      "collapsed_sections": [],
      "toc_visible": true,
      "include_colab_link": true
    },
    "kernelspec": {
      "name": "python3",
      "display_name": "Python 3"
    },
    "accelerator": "GPU"
  },
  "cells": [
    {
      "cell_type": "markdown",
      "metadata": {
        "id": "view-in-github",
        "colab_type": "text"
      },
      "source": [
        "<a href=\"https://colab.research.google.com/github/shrr98/FP-KK/blob/master/orthopedic.ipynb\" target=\"_parent\"><img src=\"https://colab.research.google.com/assets/colab-badge.svg\" alt=\"Open In Colab\"/></a>"
      ]
    },
    {
      "cell_type": "code",
      "metadata": {
        "id": "VdqpJVaPEqyf",
        "colab_type": "code",
        "outputId": "be7b6d5d-b721-4562-e425-36673d2ec7d9",
        "colab": {
          "base_uri": "https://localhost:8080/",
          "height": 118
        }
      },
      "source": [
        "from google.colab import drive\n",
        "drive.mount('/content/drive')"
      ],
      "execution_count": 3,
      "outputs": [
        {
          "output_type": "stream",
          "text": [
            "Go to this URL in a browser: https://accounts.google.com/o/oauth2/auth?client_id=947318989803-6bn6qk8qdgf4n4g3pfee6491hc0brc4i.apps.googleusercontent.com&redirect_uri=urn%3aietf%3awg%3aoauth%3a2.0%3aoob&response_type=code&scope=email%20https%3a%2f%2fwww.googleapis.com%2fauth%2fdocs.test%20https%3a%2f%2fwww.googleapis.com%2fauth%2fdrive%20https%3a%2f%2fwww.googleapis.com%2fauth%2fdrive.photos.readonly%20https%3a%2f%2fwww.googleapis.com%2fauth%2fpeopleapi.readonly\n",
            "\n",
            "Enter your authorization code:\n",
            "··········\n",
            "Mounted at /content/drive\n"
          ],
          "name": "stdout"
        }
      ]
    },
    {
      "cell_type": "markdown",
      "metadata": {
        "id": "fHyMB0Xdj79c",
        "colab_type": "text"
      },
      "source": [
        "# PREPROCESS"
      ]
    },
    {
      "cell_type": "markdown",
      "metadata": {
        "id": "_OwZeLQ-ZKIb",
        "colab_type": "text"
      },
      "source": [
        "## Load dataset"
      ]
    },
    {
      "cell_type": "code",
      "metadata": {
        "id": "DCszwWBGEF0X",
        "colab_type": "code",
        "colab": {}
      },
      "source": [
        "import pandas as pd"
      ],
      "execution_count": 0,
      "outputs": []
    },
    {
      "cell_type": "code",
      "metadata": {
        "id": "qQ0Y1QMUEl6P",
        "colab_type": "code",
        "outputId": "f4b41c0b-d78e-4cc7-da82-507c7d6b381e",
        "colab": {
          "base_uri": "https://localhost:8080/",
          "height": 391
        }
      },
      "source": [
        "df = pd.read_csv('/content/drive/My Drive/Kuliahku/KK/column_3C_weka.csv')\n",
        "df.iloc[210:310]"
      ],
      "execution_count": 5,
      "outputs": [
        {
          "output_type": "execute_result",
          "data": {
            "text/html": [
              "<div>\n",
              "<style scoped>\n",
              "    .dataframe tbody tr th:only-of-type {\n",
              "        vertical-align: middle;\n",
              "    }\n",
              "\n",
              "    .dataframe tbody tr th {\n",
              "        vertical-align: top;\n",
              "    }\n",
              "\n",
              "    .dataframe thead th {\n",
              "        text-align: right;\n",
              "    }\n",
              "</style>\n",
              "<table border=\"1\" class=\"dataframe\">\n",
              "  <thead>\n",
              "    <tr style=\"text-align: right;\">\n",
              "      <th></th>\n",
              "      <th>pelvic_incidence</th>\n",
              "      <th>pelvic_tilt</th>\n",
              "      <th>lumbar_lordosis_angle</th>\n",
              "      <th>sacral_slope</th>\n",
              "      <th>pelvic_radius</th>\n",
              "      <th>degree_spondylolisthesis</th>\n",
              "      <th>class</th>\n",
              "    </tr>\n",
              "  </thead>\n",
              "  <tbody>\n",
              "    <tr>\n",
              "      <th>210</th>\n",
              "      <td>38.505273</td>\n",
              "      <td>16.964297</td>\n",
              "      <td>35.112814</td>\n",
              "      <td>21.540976</td>\n",
              "      <td>127.632875</td>\n",
              "      <td>7.986683</td>\n",
              "      <td>Normal</td>\n",
              "    </tr>\n",
              "    <tr>\n",
              "      <th>211</th>\n",
              "      <td>54.920858</td>\n",
              "      <td>18.968430</td>\n",
              "      <td>51.601455</td>\n",
              "      <td>35.952428</td>\n",
              "      <td>125.846646</td>\n",
              "      <td>2.001642</td>\n",
              "      <td>Normal</td>\n",
              "    </tr>\n",
              "    <tr>\n",
              "      <th>212</th>\n",
              "      <td>44.362490</td>\n",
              "      <td>8.945435</td>\n",
              "      <td>46.902096</td>\n",
              "      <td>35.417055</td>\n",
              "      <td>129.220682</td>\n",
              "      <td>4.994195</td>\n",
              "      <td>Normal</td>\n",
              "    </tr>\n",
              "    <tr>\n",
              "      <th>213</th>\n",
              "      <td>48.318931</td>\n",
              "      <td>17.452121</td>\n",
              "      <td>48.000000</td>\n",
              "      <td>30.866809</td>\n",
              "      <td>128.980308</td>\n",
              "      <td>-0.910941</td>\n",
              "      <td>Normal</td>\n",
              "    </tr>\n",
              "    <tr>\n",
              "      <th>214</th>\n",
              "      <td>45.701789</td>\n",
              "      <td>10.659859</td>\n",
              "      <td>42.577846</td>\n",
              "      <td>35.041929</td>\n",
              "      <td>130.178314</td>\n",
              "      <td>-3.388910</td>\n",
              "      <td>Normal</td>\n",
              "    </tr>\n",
              "    <tr>\n",
              "      <th>...</th>\n",
              "      <td>...</td>\n",
              "      <td>...</td>\n",
              "      <td>...</td>\n",
              "      <td>...</td>\n",
              "      <td>...</td>\n",
              "      <td>...</td>\n",
              "      <td>...</td>\n",
              "    </tr>\n",
              "    <tr>\n",
              "      <th>305</th>\n",
              "      <td>47.903565</td>\n",
              "      <td>13.616688</td>\n",
              "      <td>36.000000</td>\n",
              "      <td>34.286877</td>\n",
              "      <td>117.449062</td>\n",
              "      <td>-4.245395</td>\n",
              "      <td>Normal</td>\n",
              "    </tr>\n",
              "    <tr>\n",
              "      <th>306</th>\n",
              "      <td>53.936748</td>\n",
              "      <td>20.721496</td>\n",
              "      <td>29.220534</td>\n",
              "      <td>33.215251</td>\n",
              "      <td>114.365845</td>\n",
              "      <td>-0.421010</td>\n",
              "      <td>Normal</td>\n",
              "    </tr>\n",
              "    <tr>\n",
              "      <th>307</th>\n",
              "      <td>61.446597</td>\n",
              "      <td>22.694968</td>\n",
              "      <td>46.170347</td>\n",
              "      <td>38.751628</td>\n",
              "      <td>125.670725</td>\n",
              "      <td>-2.707880</td>\n",
              "      <td>Normal</td>\n",
              "    </tr>\n",
              "    <tr>\n",
              "      <th>308</th>\n",
              "      <td>45.252792</td>\n",
              "      <td>8.693157</td>\n",
              "      <td>41.583126</td>\n",
              "      <td>36.559635</td>\n",
              "      <td>118.545842</td>\n",
              "      <td>0.214750</td>\n",
              "      <td>Normal</td>\n",
              "    </tr>\n",
              "    <tr>\n",
              "      <th>309</th>\n",
              "      <td>33.841641</td>\n",
              "      <td>5.073991</td>\n",
              "      <td>36.641233</td>\n",
              "      <td>28.767649</td>\n",
              "      <td>123.945244</td>\n",
              "      <td>-0.199249</td>\n",
              "      <td>Normal</td>\n",
              "    </tr>\n",
              "  </tbody>\n",
              "</table>\n",
              "<p>100 rows × 7 columns</p>\n",
              "</div>"
            ],
            "text/plain": [
              "     pelvic_incidence  pelvic_tilt  ...  degree_spondylolisthesis   class\n",
              "210         38.505273    16.964297  ...                  7.986683  Normal\n",
              "211         54.920858    18.968430  ...                  2.001642  Normal\n",
              "212         44.362490     8.945435  ...                  4.994195  Normal\n",
              "213         48.318931    17.452121  ...                 -0.910941  Normal\n",
              "214         45.701789    10.659859  ...                 -3.388910  Normal\n",
              "..                ...          ...  ...                       ...     ...\n",
              "305         47.903565    13.616688  ...                 -4.245395  Normal\n",
              "306         53.936748    20.721496  ...                 -0.421010  Normal\n",
              "307         61.446597    22.694968  ...                 -2.707880  Normal\n",
              "308         45.252792     8.693157  ...                  0.214750  Normal\n",
              "309         33.841641     5.073991  ...                 -0.199249  Normal\n",
              "\n",
              "[100 rows x 7 columns]"
            ]
          },
          "metadata": {
            "tags": []
          },
          "execution_count": 5
        }
      ]
    },
    {
      "cell_type": "code",
      "metadata": {
        "id": "OGqIHsI3T9eO",
        "colab_type": "code",
        "outputId": "0e280d2e-9a34-4637-aeda-85646306e8fc",
        "colab": {
          "base_uri": "https://localhost:8080/",
          "height": 228
        }
      },
      "source": [
        "import numpy as np\n",
        "\n",
        "arr = df.to_numpy()\n",
        "\n",
        "arr"
      ],
      "execution_count": 6,
      "outputs": [
        {
          "output_type": "execute_result",
          "data": {
            "text/plain": [
              "array([[63.027817500000005, 22.55258597, 39.60911701, ..., 98.67291675,\n",
              "        -0.254399986, 'Hernia'],\n",
              "       [39.05695098, 10.06099147, 25.01537822, ..., 114.4054254,\n",
              "        4.564258645, 'Hernia'],\n",
              "       [68.83202098, 22.21848205, 50.09219357, ..., 105.9851355,\n",
              "        -3.530317314, 'Hernia'],\n",
              "       ...,\n",
              "       [61.44659663, 22.694968300000003, 46.17034732, ..., 125.6707246,\n",
              "        -2.707879517, 'Normal'],\n",
              "       [45.25279209, 8.693157364, 41.5831264, ..., 118.5458418,\n",
              "        0.214750167, 'Normal'],\n",
              "       [33.84164075, 5.073991409, 36.64123294, ..., 123.9452436,\n",
              "        -0.199249089, 'Normal']], dtype=object)"
            ]
          },
          "metadata": {
            "tags": []
          },
          "execution_count": 6
        }
      ]
    },
    {
      "cell_type": "markdown",
      "metadata": {
        "id": "jzsUq4mnY__0",
        "colab_type": "text"
      },
      "source": [
        "## Shuffle datasets in each class"
      ]
    },
    {
      "cell_type": "code",
      "metadata": {
        "id": "9wB9iEkTFcP9",
        "colab_type": "code",
        "colab": {}
      },
      "source": [
        "n_hernia = 60\n",
        "n_normal = 100\n",
        "n_spondyl = 150\n",
        "\n",
        "start = 0\n",
        "for x in (n_hernia, n_spondyl, n_normal):\n",
        "  np.random.shuffle(arr[start:start + x])\n",
        "  start += x"
      ],
      "execution_count": 0,
      "outputs": []
    },
    {
      "cell_type": "markdown",
      "metadata": {
        "id": "3SUamP4cZQXO",
        "colab_type": "text"
      },
      "source": [
        "## Split dataset"
      ]
    },
    {
      "cell_type": "code",
      "metadata": {
        "id": "L17JRewvFg3B",
        "colab_type": "code",
        "outputId": "a2be35a8-9703-4f86-9af7-61b7ff603af5",
        "colab": {
          "base_uri": "https://localhost:8080/",
          "height": 66
        }
      },
      "source": [
        "val_split = 0.2\n",
        "test_split = 0.2\n",
        "\n",
        "val_set = None\n",
        "train_set = None\n",
        "test_set = None\n",
        "processed = 0\n",
        "\n",
        "for x in (n_hernia, n_spondyl, n_normal ):\n",
        "  n_val = int(val_split * x)\n",
        "  n_test = int(test_split * x)\n",
        "  if processed==0:\n",
        "    val_set = np.array(arr[processed:processed + n_val, :])\n",
        "    processed += n_val\n",
        "    test_set = np.array(arr[processed:processed + n_test, :])\n",
        "    processed += n_test\n",
        "    train_set = np.array(arr[processed:processed + x - n_val - n_test, :])\n",
        "    processed += x - n_val - n_test\n",
        "    continue\n",
        "  val_set = np.concatenate((val_set, arr[processed:processed + n_val, :]))\n",
        "  processed += n_val\n",
        "  test_set = np.concatenate((test_set, arr[processed:processed + n_test, :]))\n",
        "  processed += n_test\n",
        "  train_set = np.concatenate((train_set, arr[processed : processed + (x - n_val - n_test), :]))\n",
        "  processed += x - n_val - n_test\n",
        "\n",
        "print(f'Train : {train_set.shape}')\n",
        "print(f'Val : {val_set.shape}')\n",
        "print(f'Test : {test_set.shape}')"
      ],
      "execution_count": 8,
      "outputs": [
        {
          "output_type": "stream",
          "text": [
            "Train : (186, 7)\n",
            "Val : (62, 7)\n",
            "Test : (62, 7)\n"
          ],
          "name": "stdout"
        }
      ]
    },
    {
      "cell_type": "markdown",
      "metadata": {
        "id": "a0O6rGzzZTKv",
        "colab_type": "text"
      },
      "source": [
        "## Shuffle Train, Test, Val set"
      ]
    },
    {
      "cell_type": "code",
      "metadata": {
        "id": "ROWWm4aRZYVc",
        "colab_type": "code",
        "colab": {}
      },
      "source": [
        "np.random.shuffle(train_set)\n",
        "np.random.shuffle(val_set)\n",
        "np.random.shuffle(test_set)"
      ],
      "execution_count": 0,
      "outputs": []
    },
    {
      "cell_type": "markdown",
      "metadata": {
        "id": "LD2A97XiZhbT",
        "colab_type": "text"
      },
      "source": [
        "## Split to X Y"
      ]
    },
    {
      "cell_type": "code",
      "metadata": {
        "id": "3xA0ST05bMGt",
        "colab_type": "code",
        "outputId": "e1da40a2-702b-4173-8c85-e4a04270a4f2",
        "colab": {
          "base_uri": "https://localhost:8080/",
          "height": 66
        }
      },
      "source": [
        "\n",
        "x_train = np.array(train_set[:,:6], dtype=np.float32)\n",
        "y_train = train_set[:, 6]\n",
        "\n",
        "x_val = np.array(val_set[:,:6], dtype=np.float32)\n",
        "y_val = val_set[:,6]\n",
        "\n",
        "x_test = np.array(test_set[:,:6], dtype=np.float32)\n",
        "y_test = test_set[:,6]\n",
        "\n",
        "print(x_train.shape, y_train.shape)\n",
        "print(x_val.shape, y_val.shape)\n",
        "print(x_test.shape, y_test.shape)"
      ],
      "execution_count": 10,
      "outputs": [
        {
          "output_type": "stream",
          "text": [
            "(186, 6) (186,)\n",
            "(62, 6) (62,)\n",
            "(62, 6) (62,)\n"
          ],
          "name": "stdout"
        }
      ]
    },
    {
      "cell_type": "markdown",
      "metadata": {
        "id": "sFEAQE_8ZlWq",
        "colab_type": "text"
      },
      "source": [
        "## Normalize X "
      ]
    },
    {
      "cell_type": "code",
      "metadata": {
        "id": "FA6SUOl2K_dq",
        "colab_type": "code",
        "colab": {}
      },
      "source": [
        "for i in range(x_train.shape[1]):\n",
        "  mini = np.min(x_train[:,i])\n",
        "  maxi = np.max(x_train[:,i])\n",
        "  mean = np.mean(x_train[:,i])\n",
        "  x_train[:,i] = np.subtract(x_train[:,i], mean) / float(maxi-mini)\n",
        "  \n",
        "  mini = np.min(x_val[:,i])\n",
        "  maxi = np.max(x_val[:,i])\n",
        "  mean = np.mean(x_val[:,i])\n",
        "  x_val[:,i] = np.subtract(x_val[:,i], mean) / float(maxi-mini)\n",
        "\n",
        "  mini = np.min(x_test[:,i])\n",
        "  maxi = np.max(x_test[:,i])\n",
        "  mean = np.mean(x_test[:,i])\n",
        "  x_test[:,i] = np.subtract(x_test[:,i], mean) / float(maxi-mini)"
      ],
      "execution_count": 0,
      "outputs": []
    },
    {
      "cell_type": "markdown",
      "metadata": {
        "id": "d25c4caRZqO9",
        "colab_type": "text"
      },
      "source": [
        "## Convert Class to Indices"
      ]
    },
    {
      "cell_type": "code",
      "metadata": {
        "id": "OzrFztxshIEJ",
        "colab_type": "code",
        "colab": {}
      },
      "source": [
        "classes = np.unique(train_set[:,6])\n",
        "\n",
        "y_val = np.array([np.where(classes==x)[0][0] for x in y_val])\n",
        "\n",
        "y_train = np.array([np.where(classes==x)[0][0] for x in y_train])\n",
        "\n",
        "y_test = np.array([np.where(classes == x)[0][0] for x in y_test])"
      ],
      "execution_count": 0,
      "outputs": []
    },
    {
      "cell_type": "markdown",
      "metadata": {
        "id": "JryY7ygXZ0xo",
        "colab_type": "text"
      },
      "source": [
        "# TRAIN"
      ]
    },
    {
      "cell_type": "markdown",
      "metadata": {
        "id": "iZOusrJokwNe",
        "colab_type": "text"
      },
      "source": [
        "## Train Using SGD"
      ]
    },
    {
      "cell_type": "code",
      "metadata": {
        "id": "UstIBSrFHFak",
        "colab_type": "code",
        "outputId": "c414520e-ad03-44b0-88c4-b1f23f65b60f",
        "colab": {
          "base_uri": "https://localhost:8080/",
          "height": 130
        }
      },
      "source": [
        "import tensorflow as tf\n",
        "from tensorflow.keras.models import Sequential\n",
        "from tensorflow.keras.layers import Dense,Dropout,Activation\n",
        "from tensorflow.keras.optimizers import SGD\n",
        "\n",
        "model = tf.keras.Sequential()\n",
        "\n",
        "model.add(Dense(20, input_shape=(x_train.shape[1],), activation=tf.nn.relu))\n",
        "model.add(Dense(3, activation='softmax'))\n"
      ],
      "execution_count": 13,
      "outputs": [
        {
          "output_type": "display_data",
          "data": {
            "text/html": [
              "<p style=\"color: red;\">\n",
              "The default version of TensorFlow in Colab will soon switch to TensorFlow 2.x.<br>\n",
              "We recommend you <a href=\"https://www.tensorflow.org/guide/migrate\" target=\"_blank\">upgrade</a> now \n",
              "or ensure your notebook will continue to use TensorFlow 1.x via the <code>%tensorflow_version 1.x</code> magic:\n",
              "<a href=\"https://colab.research.google.com/notebooks/tensorflow_version.ipynb\" target=\"_blank\">more info</a>.</p>\n"
            ],
            "text/plain": [
              "<IPython.core.display.HTML object>"
            ]
          },
          "metadata": {
            "tags": []
          }
        },
        {
          "output_type": "stream",
          "text": [
            "WARNING:tensorflow:From /usr/local/lib/python3.6/dist-packages/tensorflow_core/python/ops/resource_variable_ops.py:1630: calling BaseResourceVariable.__init__ (from tensorflow.python.ops.resource_variable_ops) with constraint is deprecated and will be removed in a future version.\n",
            "Instructions for updating:\n",
            "If using Keras pass *_constraint arguments to layers.\n"
          ],
          "name": "stdout"
        }
      ]
    },
    {
      "cell_type": "code",
      "metadata": {
        "id": "ptzqORg2VNSp",
        "colab_type": "code",
        "colab": {}
      },
      "source": [
        "model.compile(optimizer=tf.keras.optimizers.SGD(learning_rate=.001),\n",
        "              loss=tf.keras.losses.sparse_categorical_crossentropy,\n",
        "              metrics=[\"accuracy\"])"
      ],
      "execution_count": 0,
      "outputs": []
    },
    {
      "cell_type": "code",
      "metadata": {
        "id": "YgjZbCqIahIC",
        "colab_type": "code",
        "colab": {}
      },
      "source": [
        "callback = tf.keras.callbacks.EarlyStopping(monitor='val_loss', patience=10, mode='min', restore_best_weights=True)"
      ],
      "execution_count": 0,
      "outputs": []
    },
    {
      "cell_type": "code",
      "metadata": {
        "id": "dHzj9Ymqam5v",
        "colab_type": "code",
        "outputId": "8cf2cd87-6c60-4548-8d0f-6e098edc989c",
        "colab": {
          "base_uri": "https://localhost:8080/",
          "height": 1000
        }
      },
      "source": [
        "history  = model.fit(x=x_train, y=y_train, callbacks=[callback], batch_size=1, epochs=1000, validation_data=(x_val, y_val))"
      ],
      "execution_count": 16,
      "outputs": [
        {
          "output_type": "stream",
          "text": [
            "Train on 186 samples, validate on 62 samples\n",
            "Epoch 1/1000\n",
            "186/186 [==============================] - 1s 7ms/sample - loss: 1.1024 - acc: 0.3118 - val_loss: 1.0985 - val_acc: 0.2742\n",
            "Epoch 2/1000\n",
            "186/186 [==============================] - 0s 3ms/sample - loss: 1.0849 - acc: 0.3065 - val_loss: 1.0832 - val_acc: 0.3710\n",
            "Epoch 3/1000\n",
            "186/186 [==============================] - 0s 3ms/sample - loss: 1.0687 - acc: 0.3978 - val_loss: 1.0688 - val_acc: 0.4032\n",
            "Epoch 4/1000\n",
            "186/186 [==============================] - 1s 3ms/sample - loss: 1.0537 - acc: 0.4677 - val_loss: 1.0556 - val_acc: 0.4516\n",
            "Epoch 5/1000\n",
            "186/186 [==============================] - 1s 3ms/sample - loss: 1.0399 - acc: 0.5161 - val_loss: 1.0431 - val_acc: 0.4677\n",
            "Epoch 6/1000\n",
            "186/186 [==============================] - 0s 3ms/sample - loss: 1.0270 - acc: 0.5323 - val_loss: 1.0317 - val_acc: 0.4839\n",
            "Epoch 7/1000\n",
            "186/186 [==============================] - 1s 3ms/sample - loss: 1.0150 - acc: 0.5484 - val_loss: 1.0213 - val_acc: 0.4839\n",
            "Epoch 8/1000\n",
            "186/186 [==============================] - 0s 3ms/sample - loss: 1.0039 - acc: 0.5645 - val_loss: 1.0117 - val_acc: 0.4839\n",
            "Epoch 9/1000\n",
            "186/186 [==============================] - 1s 3ms/sample - loss: 0.9934 - acc: 0.5645 - val_loss: 1.0028 - val_acc: 0.4677\n",
            "Epoch 10/1000\n",
            "186/186 [==============================] - 1s 3ms/sample - loss: 0.9836 - acc: 0.5914 - val_loss: 0.9945 - val_acc: 0.4677\n",
            "Epoch 11/1000\n",
            "186/186 [==============================] - 0s 3ms/sample - loss: 0.9743 - acc: 0.5860 - val_loss: 0.9865 - val_acc: 0.4516\n",
            "Epoch 12/1000\n",
            "186/186 [==============================] - 1s 3ms/sample - loss: 0.9654 - acc: 0.5645 - val_loss: 0.9789 - val_acc: 0.4677\n",
            "Epoch 13/1000\n",
            "186/186 [==============================] - 1s 3ms/sample - loss: 0.9569 - acc: 0.5968 - val_loss: 0.9715 - val_acc: 0.4677\n",
            "Epoch 14/1000\n",
            "186/186 [==============================] - 1s 3ms/sample - loss: 0.9487 - acc: 0.5753 - val_loss: 0.9644 - val_acc: 0.4677\n",
            "Epoch 15/1000\n",
            "186/186 [==============================] - 1s 3ms/sample - loss: 0.9405 - acc: 0.6129 - val_loss: 0.9576 - val_acc: 0.4839\n",
            "Epoch 16/1000\n",
            "186/186 [==============================] - 1s 3ms/sample - loss: 0.9327 - acc: 0.6022 - val_loss: 0.9510 - val_acc: 0.4839\n",
            "Epoch 17/1000\n",
            "186/186 [==============================] - 1s 3ms/sample - loss: 0.9251 - acc: 0.6183 - val_loss: 0.9448 - val_acc: 0.4839\n",
            "Epoch 18/1000\n",
            "186/186 [==============================] - 1s 3ms/sample - loss: 0.9178 - acc: 0.6237 - val_loss: 0.9387 - val_acc: 0.4839\n",
            "Epoch 19/1000\n",
            "186/186 [==============================] - 1s 3ms/sample - loss: 0.9106 - acc: 0.6075 - val_loss: 0.9327 - val_acc: 0.4839\n",
            "Epoch 20/1000\n",
            "186/186 [==============================] - 1s 3ms/sample - loss: 0.9035 - acc: 0.6290 - val_loss: 0.9269 - val_acc: 0.5000\n",
            "Epoch 21/1000\n",
            "186/186 [==============================] - 1s 3ms/sample - loss: 0.8964 - acc: 0.6129 - val_loss: 0.9211 - val_acc: 0.5000\n",
            "Epoch 22/1000\n",
            "186/186 [==============================] - 1s 3ms/sample - loss: 0.8893 - acc: 0.6398 - val_loss: 0.9153 - val_acc: 0.5161\n",
            "Epoch 23/1000\n",
            "186/186 [==============================] - 1s 3ms/sample - loss: 0.8824 - acc: 0.6398 - val_loss: 0.9096 - val_acc: 0.5323\n",
            "Epoch 24/1000\n",
            "186/186 [==============================] - 1s 3ms/sample - loss: 0.8755 - acc: 0.6505 - val_loss: 0.9039 - val_acc: 0.5323\n",
            "Epoch 25/1000\n",
            "186/186 [==============================] - 1s 3ms/sample - loss: 0.8686 - acc: 0.6452 - val_loss: 0.8983 - val_acc: 0.5323\n",
            "Epoch 26/1000\n",
            "186/186 [==============================] - 1s 3ms/sample - loss: 0.8619 - acc: 0.6720 - val_loss: 0.8927 - val_acc: 0.5484\n",
            "Epoch 27/1000\n",
            "186/186 [==============================] - 1s 3ms/sample - loss: 0.8552 - acc: 0.6774 - val_loss: 0.8872 - val_acc: 0.5484\n",
            "Epoch 28/1000\n",
            "186/186 [==============================] - 1s 3ms/sample - loss: 0.8486 - acc: 0.6882 - val_loss: 0.8819 - val_acc: 0.5645\n",
            "Epoch 29/1000\n",
            "186/186 [==============================] - 1s 3ms/sample - loss: 0.8421 - acc: 0.6882 - val_loss: 0.8764 - val_acc: 0.5968\n",
            "Epoch 30/1000\n",
            "186/186 [==============================] - 1s 3ms/sample - loss: 0.8357 - acc: 0.6989 - val_loss: 0.8709 - val_acc: 0.5968\n",
            "Epoch 31/1000\n",
            "186/186 [==============================] - 1s 3ms/sample - loss: 0.8294 - acc: 0.6935 - val_loss: 0.8655 - val_acc: 0.5968\n",
            "Epoch 32/1000\n",
            "186/186 [==============================] - 1s 3ms/sample - loss: 0.8231 - acc: 0.6935 - val_loss: 0.8601 - val_acc: 0.6129\n",
            "Epoch 33/1000\n",
            "186/186 [==============================] - 1s 3ms/sample - loss: 0.8170 - acc: 0.6989 - val_loss: 0.8549 - val_acc: 0.6290\n",
            "Epoch 34/1000\n",
            "186/186 [==============================] - 1s 3ms/sample - loss: 0.8110 - acc: 0.6882 - val_loss: 0.8497 - val_acc: 0.6290\n",
            "Epoch 35/1000\n",
            "186/186 [==============================] - 1s 3ms/sample - loss: 0.8050 - acc: 0.6935 - val_loss: 0.8446 - val_acc: 0.6452\n",
            "Epoch 36/1000\n",
            "186/186 [==============================] - 1s 3ms/sample - loss: 0.7992 - acc: 0.6882 - val_loss: 0.8396 - val_acc: 0.6452\n",
            "Epoch 37/1000\n",
            "186/186 [==============================] - 1s 3ms/sample - loss: 0.7935 - acc: 0.6935 - val_loss: 0.8347 - val_acc: 0.6452\n",
            "Epoch 38/1000\n",
            "186/186 [==============================] - 1s 3ms/sample - loss: 0.7879 - acc: 0.7043 - val_loss: 0.8299 - val_acc: 0.6452\n",
            "Epoch 39/1000\n",
            "186/186 [==============================] - 1s 3ms/sample - loss: 0.7823 - acc: 0.7043 - val_loss: 0.8252 - val_acc: 0.6452\n",
            "Epoch 40/1000\n",
            "186/186 [==============================] - 0s 3ms/sample - loss: 0.7767 - acc: 0.7097 - val_loss: 0.8205 - val_acc: 0.6452\n",
            "Epoch 41/1000\n",
            "186/186 [==============================] - 1s 3ms/sample - loss: 0.7713 - acc: 0.7151 - val_loss: 0.8160 - val_acc: 0.6452\n",
            "Epoch 42/1000\n",
            "186/186 [==============================] - 1s 3ms/sample - loss: 0.7660 - acc: 0.7151 - val_loss: 0.8116 - val_acc: 0.6774\n",
            "Epoch 43/1000\n",
            "186/186 [==============================] - 1s 3ms/sample - loss: 0.7608 - acc: 0.7097 - val_loss: 0.8072 - val_acc: 0.6774\n",
            "Epoch 44/1000\n",
            "186/186 [==============================] - 1s 3ms/sample - loss: 0.7557 - acc: 0.7097 - val_loss: 0.8029 - val_acc: 0.6774\n",
            "Epoch 45/1000\n",
            "186/186 [==============================] - 1s 3ms/sample - loss: 0.7507 - acc: 0.7043 - val_loss: 0.7986 - val_acc: 0.6774\n",
            "Epoch 46/1000\n",
            "186/186 [==============================] - 1s 3ms/sample - loss: 0.7457 - acc: 0.7097 - val_loss: 0.7945 - val_acc: 0.6774\n",
            "Epoch 47/1000\n",
            "186/186 [==============================] - 1s 3ms/sample - loss: 0.7410 - acc: 0.7097 - val_loss: 0.7904 - val_acc: 0.6774\n",
            "Epoch 48/1000\n",
            "186/186 [==============================] - 1s 3ms/sample - loss: 0.7362 - acc: 0.7043 - val_loss: 0.7865 - val_acc: 0.6935\n",
            "Epoch 49/1000\n",
            "186/186 [==============================] - 1s 3ms/sample - loss: 0.7316 - acc: 0.7043 - val_loss: 0.7826 - val_acc: 0.7097\n",
            "Epoch 50/1000\n",
            "186/186 [==============================] - 1s 3ms/sample - loss: 0.7270 - acc: 0.7043 - val_loss: 0.7788 - val_acc: 0.7097\n",
            "Epoch 51/1000\n",
            "186/186 [==============================] - 1s 3ms/sample - loss: 0.7226 - acc: 0.7097 - val_loss: 0.7751 - val_acc: 0.7097\n",
            "Epoch 52/1000\n",
            "186/186 [==============================] - 1s 3ms/sample - loss: 0.7183 - acc: 0.7097 - val_loss: 0.7715 - val_acc: 0.7097\n",
            "Epoch 53/1000\n",
            "186/186 [==============================] - 1s 3ms/sample - loss: 0.7140 - acc: 0.7097 - val_loss: 0.7680 - val_acc: 0.7097\n",
            "Epoch 54/1000\n",
            "186/186 [==============================] - 1s 3ms/sample - loss: 0.7099 - acc: 0.7097 - val_loss: 0.7645 - val_acc: 0.7097\n",
            "Epoch 55/1000\n",
            "186/186 [==============================] - 1s 3ms/sample - loss: 0.7058 - acc: 0.7097 - val_loss: 0.7610 - val_acc: 0.7097\n",
            "Epoch 56/1000\n",
            "186/186 [==============================] - 1s 3ms/sample - loss: 0.7019 - acc: 0.7043 - val_loss: 0.7576 - val_acc: 0.7097\n",
            "Epoch 57/1000\n",
            "186/186 [==============================] - 1s 3ms/sample - loss: 0.6980 - acc: 0.7043 - val_loss: 0.7543 - val_acc: 0.7097\n",
            "Epoch 58/1000\n",
            "186/186 [==============================] - 1s 3ms/sample - loss: 0.6941 - acc: 0.7097 - val_loss: 0.7510 - val_acc: 0.7097\n",
            "Epoch 59/1000\n",
            "186/186 [==============================] - 1s 3ms/sample - loss: 0.6904 - acc: 0.7043 - val_loss: 0.7478 - val_acc: 0.7097\n",
            "Epoch 60/1000\n",
            "186/186 [==============================] - 1s 3ms/sample - loss: 0.6868 - acc: 0.7043 - val_loss: 0.7446 - val_acc: 0.7097\n",
            "Epoch 61/1000\n",
            "186/186 [==============================] - 1s 3ms/sample - loss: 0.6832 - acc: 0.7043 - val_loss: 0.7416 - val_acc: 0.7097\n",
            "Epoch 62/1000\n",
            "186/186 [==============================] - 1s 3ms/sample - loss: 0.6797 - acc: 0.7043 - val_loss: 0.7385 - val_acc: 0.7097\n",
            "Epoch 63/1000\n",
            "186/186 [==============================] - 1s 3ms/sample - loss: 0.6763 - acc: 0.7043 - val_loss: 0.7355 - val_acc: 0.7097\n",
            "Epoch 64/1000\n",
            "186/186 [==============================] - 1s 3ms/sample - loss: 0.6729 - acc: 0.7097 - val_loss: 0.7326 - val_acc: 0.7097\n",
            "Epoch 65/1000\n",
            "186/186 [==============================] - 1s 3ms/sample - loss: 0.6696 - acc: 0.7151 - val_loss: 0.7297 - val_acc: 0.7097\n",
            "Epoch 66/1000\n",
            "186/186 [==============================] - 1s 3ms/sample - loss: 0.6664 - acc: 0.7151 - val_loss: 0.7269 - val_acc: 0.7097\n",
            "Epoch 67/1000\n",
            "186/186 [==============================] - 1s 3ms/sample - loss: 0.6632 - acc: 0.7151 - val_loss: 0.7242 - val_acc: 0.7097\n",
            "Epoch 68/1000\n",
            "186/186 [==============================] - 1s 3ms/sample - loss: 0.6601 - acc: 0.7151 - val_loss: 0.7214 - val_acc: 0.7097\n",
            "Epoch 69/1000\n",
            "186/186 [==============================] - 1s 3ms/sample - loss: 0.6570 - acc: 0.7097 - val_loss: 0.7188 - val_acc: 0.7097\n",
            "Epoch 70/1000\n",
            "186/186 [==============================] - 1s 3ms/sample - loss: 0.6540 - acc: 0.7097 - val_loss: 0.7161 - val_acc: 0.7097\n",
            "Epoch 71/1000\n",
            "186/186 [==============================] - 1s 3ms/sample - loss: 0.6510 - acc: 0.7151 - val_loss: 0.7136 - val_acc: 0.7097\n",
            "Epoch 72/1000\n",
            "186/186 [==============================] - 1s 3ms/sample - loss: 0.6481 - acc: 0.7151 - val_loss: 0.7110 - val_acc: 0.7097\n",
            "Epoch 73/1000\n",
            "186/186 [==============================] - 1s 3ms/sample - loss: 0.6453 - acc: 0.7151 - val_loss: 0.7085 - val_acc: 0.7258\n",
            "Epoch 74/1000\n",
            "186/186 [==============================] - 0s 3ms/sample - loss: 0.6424 - acc: 0.7151 - val_loss: 0.7061 - val_acc: 0.7258\n",
            "Epoch 75/1000\n",
            "186/186 [==============================] - 1s 3ms/sample - loss: 0.6396 - acc: 0.7204 - val_loss: 0.7037 - val_acc: 0.7258\n",
            "Epoch 76/1000\n",
            "186/186 [==============================] - 0s 3ms/sample - loss: 0.6369 - acc: 0.7258 - val_loss: 0.7013 - val_acc: 0.7258\n",
            "Epoch 77/1000\n",
            "186/186 [==============================] - 1s 3ms/sample - loss: 0.6342 - acc: 0.7258 - val_loss: 0.6990 - val_acc: 0.7258\n",
            "Epoch 78/1000\n",
            "186/186 [==============================] - 1s 3ms/sample - loss: 0.6316 - acc: 0.7258 - val_loss: 0.6968 - val_acc: 0.7258\n",
            "Epoch 79/1000\n",
            "186/186 [==============================] - 1s 3ms/sample - loss: 0.6290 - acc: 0.7366 - val_loss: 0.6946 - val_acc: 0.7258\n",
            "Epoch 80/1000\n",
            "186/186 [==============================] - 1s 3ms/sample - loss: 0.6264 - acc: 0.7366 - val_loss: 0.6924 - val_acc: 0.7258\n",
            "Epoch 81/1000\n",
            "186/186 [==============================] - 1s 3ms/sample - loss: 0.6238 - acc: 0.7366 - val_loss: 0.6902 - val_acc: 0.7258\n",
            "Epoch 82/1000\n",
            "186/186 [==============================] - 1s 3ms/sample - loss: 0.6213 - acc: 0.7419 - val_loss: 0.6881 - val_acc: 0.7258\n",
            "Epoch 83/1000\n",
            "186/186 [==============================] - 1s 3ms/sample - loss: 0.6189 - acc: 0.7473 - val_loss: 0.6860 - val_acc: 0.7258\n",
            "Epoch 84/1000\n",
            "186/186 [==============================] - 1s 3ms/sample - loss: 0.6165 - acc: 0.7419 - val_loss: 0.6840 - val_acc: 0.7258\n",
            "Epoch 85/1000\n",
            "186/186 [==============================] - 1s 3ms/sample - loss: 0.6141 - acc: 0.7473 - val_loss: 0.6819 - val_acc: 0.7258\n",
            "Epoch 86/1000\n",
            "186/186 [==============================] - 1s 3ms/sample - loss: 0.6117 - acc: 0.7473 - val_loss: 0.6799 - val_acc: 0.7258\n",
            "Epoch 87/1000\n",
            "186/186 [==============================] - 1s 3ms/sample - loss: 0.6094 - acc: 0.7473 - val_loss: 0.6779 - val_acc: 0.7258\n",
            "Epoch 88/1000\n",
            "186/186 [==============================] - 1s 3ms/sample - loss: 0.6070 - acc: 0.7473 - val_loss: 0.6760 - val_acc: 0.7258\n",
            "Epoch 89/1000\n",
            "186/186 [==============================] - 1s 3ms/sample - loss: 0.6048 - acc: 0.7688 - val_loss: 0.6741 - val_acc: 0.7258\n",
            "Epoch 90/1000\n",
            "186/186 [==============================] - 1s 3ms/sample - loss: 0.6026 - acc: 0.7634 - val_loss: 0.6722 - val_acc: 0.7258\n",
            "Epoch 91/1000\n",
            "186/186 [==============================] - 1s 3ms/sample - loss: 0.6004 - acc: 0.7581 - val_loss: 0.6704 - val_acc: 0.7258\n",
            "Epoch 92/1000\n",
            "186/186 [==============================] - 1s 3ms/sample - loss: 0.5982 - acc: 0.7688 - val_loss: 0.6685 - val_acc: 0.7258\n",
            "Epoch 93/1000\n",
            "186/186 [==============================] - 1s 3ms/sample - loss: 0.5961 - acc: 0.7688 - val_loss: 0.6667 - val_acc: 0.7258\n",
            "Epoch 94/1000\n",
            "186/186 [==============================] - 1s 3ms/sample - loss: 0.5939 - acc: 0.7688 - val_loss: 0.6649 - val_acc: 0.7258\n",
            "Epoch 95/1000\n",
            "186/186 [==============================] - 1s 3ms/sample - loss: 0.5918 - acc: 0.7742 - val_loss: 0.6632 - val_acc: 0.7258\n",
            "Epoch 96/1000\n",
            "186/186 [==============================] - 0s 3ms/sample - loss: 0.5898 - acc: 0.7688 - val_loss: 0.6615 - val_acc: 0.7258\n",
            "Epoch 97/1000\n",
            "186/186 [==============================] - 1s 3ms/sample - loss: 0.5877 - acc: 0.7688 - val_loss: 0.6598 - val_acc: 0.7258\n",
            "Epoch 98/1000\n",
            "186/186 [==============================] - 1s 3ms/sample - loss: 0.5856 - acc: 0.7796 - val_loss: 0.6582 - val_acc: 0.7258\n",
            "Epoch 99/1000\n",
            "186/186 [==============================] - 1s 3ms/sample - loss: 0.5836 - acc: 0.7849 - val_loss: 0.6565 - val_acc: 0.7258\n",
            "Epoch 100/1000\n",
            "186/186 [==============================] - 0s 3ms/sample - loss: 0.5816 - acc: 0.7849 - val_loss: 0.6550 - val_acc: 0.7258\n",
            "Epoch 101/1000\n",
            "186/186 [==============================] - 1s 3ms/sample - loss: 0.5797 - acc: 0.7796 - val_loss: 0.6534 - val_acc: 0.7258\n",
            "Epoch 102/1000\n",
            "186/186 [==============================] - 1s 3ms/sample - loss: 0.5778 - acc: 0.7742 - val_loss: 0.6518 - val_acc: 0.7258\n",
            "Epoch 103/1000\n",
            "186/186 [==============================] - 1s 3ms/sample - loss: 0.5758 - acc: 0.7796 - val_loss: 0.6502 - val_acc: 0.7258\n",
            "Epoch 104/1000\n",
            "186/186 [==============================] - 1s 3ms/sample - loss: 0.5739 - acc: 0.7796 - val_loss: 0.6487 - val_acc: 0.7258\n",
            "Epoch 105/1000\n",
            "186/186 [==============================] - 1s 3ms/sample - loss: 0.5720 - acc: 0.7742 - val_loss: 0.6471 - val_acc: 0.7258\n",
            "Epoch 106/1000\n",
            "186/186 [==============================] - 0s 3ms/sample - loss: 0.5701 - acc: 0.7849 - val_loss: 0.6457 - val_acc: 0.7258\n",
            "Epoch 107/1000\n",
            "186/186 [==============================] - 1s 3ms/sample - loss: 0.5682 - acc: 0.7957 - val_loss: 0.6442 - val_acc: 0.7258\n",
            "Epoch 108/1000\n",
            "186/186 [==============================] - 1s 3ms/sample - loss: 0.5664 - acc: 0.7796 - val_loss: 0.6428 - val_acc: 0.7258\n",
            "Epoch 109/1000\n",
            "186/186 [==============================] - 1s 3ms/sample - loss: 0.5645 - acc: 0.7957 - val_loss: 0.6413 - val_acc: 0.7258\n",
            "Epoch 110/1000\n",
            "186/186 [==============================] - 1s 3ms/sample - loss: 0.5627 - acc: 0.7903 - val_loss: 0.6398 - val_acc: 0.7258\n",
            "Epoch 111/1000\n",
            "186/186 [==============================] - 0s 3ms/sample - loss: 0.5610 - acc: 0.7849 - val_loss: 0.6384 - val_acc: 0.7258\n",
            "Epoch 112/1000\n",
            "186/186 [==============================] - 1s 3ms/sample - loss: 0.5592 - acc: 0.7849 - val_loss: 0.6371 - val_acc: 0.7258\n",
            "Epoch 113/1000\n",
            "186/186 [==============================] - 1s 3ms/sample - loss: 0.5575 - acc: 0.7849 - val_loss: 0.6357 - val_acc: 0.7258\n",
            "Epoch 114/1000\n",
            "186/186 [==============================] - 1s 3ms/sample - loss: 0.5557 - acc: 0.7957 - val_loss: 0.6344 - val_acc: 0.7258\n",
            "Epoch 115/1000\n",
            "186/186 [==============================] - 1s 3ms/sample - loss: 0.5540 - acc: 0.7957 - val_loss: 0.6330 - val_acc: 0.7258\n",
            "Epoch 116/1000\n",
            "186/186 [==============================] - 1s 3ms/sample - loss: 0.5523 - acc: 0.8065 - val_loss: 0.6318 - val_acc: 0.7258\n",
            "Epoch 117/1000\n",
            "186/186 [==============================] - 1s 3ms/sample - loss: 0.5506 - acc: 0.7957 - val_loss: 0.6305 - val_acc: 0.7258\n",
            "Epoch 118/1000\n",
            "186/186 [==============================] - 1s 3ms/sample - loss: 0.5489 - acc: 0.7957 - val_loss: 0.6293 - val_acc: 0.7258\n",
            "Epoch 119/1000\n",
            "186/186 [==============================] - 0s 3ms/sample - loss: 0.5473 - acc: 0.7957 - val_loss: 0.6280 - val_acc: 0.7258\n",
            "Epoch 120/1000\n",
            "186/186 [==============================] - 1s 3ms/sample - loss: 0.5456 - acc: 0.8065 - val_loss: 0.6269 - val_acc: 0.7258\n",
            "Epoch 121/1000\n",
            "186/186 [==============================] - 1s 3ms/sample - loss: 0.5440 - acc: 0.8011 - val_loss: 0.6257 - val_acc: 0.7258\n",
            "Epoch 122/1000\n",
            "186/186 [==============================] - 1s 3ms/sample - loss: 0.5424 - acc: 0.7957 - val_loss: 0.6245 - val_acc: 0.7419\n",
            "Epoch 123/1000\n",
            "186/186 [==============================] - 1s 3ms/sample - loss: 0.5408 - acc: 0.8065 - val_loss: 0.6233 - val_acc: 0.7419\n",
            "Epoch 124/1000\n",
            "186/186 [==============================] - 1s 3ms/sample - loss: 0.5392 - acc: 0.8011 - val_loss: 0.6222 - val_acc: 0.7419\n",
            "Epoch 125/1000\n",
            "186/186 [==============================] - 1s 3ms/sample - loss: 0.5377 - acc: 0.8065 - val_loss: 0.6210 - val_acc: 0.7419\n",
            "Epoch 126/1000\n",
            "186/186 [==============================] - 1s 3ms/sample - loss: 0.5361 - acc: 0.8065 - val_loss: 0.6198 - val_acc: 0.7419\n",
            "Epoch 127/1000\n",
            "186/186 [==============================] - 1s 3ms/sample - loss: 0.5345 - acc: 0.8065 - val_loss: 0.6185 - val_acc: 0.7419\n",
            "Epoch 128/1000\n",
            "186/186 [==============================] - 0s 3ms/sample - loss: 0.5330 - acc: 0.8065 - val_loss: 0.6175 - val_acc: 0.7419\n",
            "Epoch 129/1000\n",
            "186/186 [==============================] - 0s 3ms/sample - loss: 0.5315 - acc: 0.8011 - val_loss: 0.6164 - val_acc: 0.7581\n",
            "Epoch 130/1000\n",
            "186/186 [==============================] - 1s 3ms/sample - loss: 0.5300 - acc: 0.8011 - val_loss: 0.6154 - val_acc: 0.7581\n",
            "Epoch 131/1000\n",
            "186/186 [==============================] - 1s 3ms/sample - loss: 0.5285 - acc: 0.8065 - val_loss: 0.6142 - val_acc: 0.7581\n",
            "Epoch 132/1000\n",
            "186/186 [==============================] - 1s 3ms/sample - loss: 0.5270 - acc: 0.8011 - val_loss: 0.6132 - val_acc: 0.7581\n",
            "Epoch 133/1000\n",
            "186/186 [==============================] - 1s 3ms/sample - loss: 0.5255 - acc: 0.7957 - val_loss: 0.6122 - val_acc: 0.7581\n",
            "Epoch 134/1000\n",
            "186/186 [==============================] - 1s 3ms/sample - loss: 0.5240 - acc: 0.8011 - val_loss: 0.6111 - val_acc: 0.7581\n",
            "Epoch 135/1000\n",
            "186/186 [==============================] - 1s 3ms/sample - loss: 0.5226 - acc: 0.8011 - val_loss: 0.6100 - val_acc: 0.7581\n",
            "Epoch 136/1000\n",
            "186/186 [==============================] - 1s 3ms/sample - loss: 0.5212 - acc: 0.8011 - val_loss: 0.6091 - val_acc: 0.7581\n",
            "Epoch 137/1000\n",
            "186/186 [==============================] - 1s 3ms/sample - loss: 0.5197 - acc: 0.8011 - val_loss: 0.6080 - val_acc: 0.7581\n",
            "Epoch 138/1000\n",
            "186/186 [==============================] - 0s 3ms/sample - loss: 0.5183 - acc: 0.8011 - val_loss: 0.6070 - val_acc: 0.7581\n",
            "Epoch 139/1000\n",
            "186/186 [==============================] - 1s 3ms/sample - loss: 0.5169 - acc: 0.8011 - val_loss: 0.6060 - val_acc: 0.7581\n",
            "Epoch 140/1000\n",
            "186/186 [==============================] - 1s 3ms/sample - loss: 0.5155 - acc: 0.8011 - val_loss: 0.6051 - val_acc: 0.7581\n",
            "Epoch 141/1000\n",
            "186/186 [==============================] - 1s 3ms/sample - loss: 0.5141 - acc: 0.8011 - val_loss: 0.6042 - val_acc: 0.7581\n",
            "Epoch 142/1000\n",
            "186/186 [==============================] - 1s 3ms/sample - loss: 0.5127 - acc: 0.8011 - val_loss: 0.6033 - val_acc: 0.7581\n",
            "Epoch 143/1000\n",
            "186/186 [==============================] - 1s 3ms/sample - loss: 0.5112 - acc: 0.8065 - val_loss: 0.6026 - val_acc: 0.7581\n",
            "Epoch 144/1000\n",
            "186/186 [==============================] - 1s 3ms/sample - loss: 0.5098 - acc: 0.8011 - val_loss: 0.6018 - val_acc: 0.7742\n",
            "Epoch 145/1000\n",
            "186/186 [==============================] - 1s 3ms/sample - loss: 0.5086 - acc: 0.8011 - val_loss: 0.6009 - val_acc: 0.7581\n",
            "Epoch 146/1000\n",
            "186/186 [==============================] - 1s 3ms/sample - loss: 0.5072 - acc: 0.8065 - val_loss: 0.6000 - val_acc: 0.7581\n",
            "Epoch 147/1000\n",
            "186/186 [==============================] - 1s 3ms/sample - loss: 0.5058 - acc: 0.8011 - val_loss: 0.5990 - val_acc: 0.7581\n",
            "Epoch 148/1000\n",
            "186/186 [==============================] - 1s 3ms/sample - loss: 0.5046 - acc: 0.8065 - val_loss: 0.5981 - val_acc: 0.7581\n",
            "Epoch 149/1000\n",
            "186/186 [==============================] - 1s 3ms/sample - loss: 0.5032 - acc: 0.8065 - val_loss: 0.5972 - val_acc: 0.7581\n",
            "Epoch 150/1000\n",
            "186/186 [==============================] - 0s 3ms/sample - loss: 0.5019 - acc: 0.8065 - val_loss: 0.5963 - val_acc: 0.7581\n",
            "Epoch 151/1000\n",
            "186/186 [==============================] - 1s 3ms/sample - loss: 0.5006 - acc: 0.8065 - val_loss: 0.5954 - val_acc: 0.7581\n",
            "Epoch 152/1000\n",
            "186/186 [==============================] - 1s 3ms/sample - loss: 0.4992 - acc: 0.8065 - val_loss: 0.5947 - val_acc: 0.7581\n",
            "Epoch 153/1000\n",
            "186/186 [==============================] - 1s 3ms/sample - loss: 0.4980 - acc: 0.8011 - val_loss: 0.5939 - val_acc: 0.7581\n",
            "Epoch 154/1000\n",
            "186/186 [==============================] - 1s 3ms/sample - loss: 0.4966 - acc: 0.8011 - val_loss: 0.5933 - val_acc: 0.7581\n",
            "Epoch 155/1000\n",
            "186/186 [==============================] - 1s 3ms/sample - loss: 0.4954 - acc: 0.8011 - val_loss: 0.5926 - val_acc: 0.7742\n",
            "Epoch 156/1000\n",
            "186/186 [==============================] - 1s 3ms/sample - loss: 0.4943 - acc: 0.8011 - val_loss: 0.5916 - val_acc: 0.7742\n",
            "Epoch 157/1000\n",
            "186/186 [==============================] - 1s 3ms/sample - loss: 0.4929 - acc: 0.8065 - val_loss: 0.5909 - val_acc: 0.7742\n",
            "Epoch 158/1000\n",
            "186/186 [==============================] - 1s 3ms/sample - loss: 0.4917 - acc: 0.8065 - val_loss: 0.5899 - val_acc: 0.7742\n",
            "Epoch 159/1000\n",
            "186/186 [==============================] - 1s 3ms/sample - loss: 0.4905 - acc: 0.8011 - val_loss: 0.5892 - val_acc: 0.7742\n",
            "Epoch 160/1000\n",
            "186/186 [==============================] - 1s 3ms/sample - loss: 0.4893 - acc: 0.8065 - val_loss: 0.5885 - val_acc: 0.7742\n",
            "Epoch 161/1000\n",
            "186/186 [==============================] - 1s 3ms/sample - loss: 0.4881 - acc: 0.8065 - val_loss: 0.5877 - val_acc: 0.7742\n",
            "Epoch 162/1000\n",
            "186/186 [==============================] - 1s 3ms/sample - loss: 0.4868 - acc: 0.8011 - val_loss: 0.5869 - val_acc: 0.7742\n",
            "Epoch 163/1000\n",
            "186/186 [==============================] - 1s 3ms/sample - loss: 0.4856 - acc: 0.8065 - val_loss: 0.5860 - val_acc: 0.7742\n",
            "Epoch 164/1000\n",
            "186/186 [==============================] - 1s 3ms/sample - loss: 0.4844 - acc: 0.8011 - val_loss: 0.5854 - val_acc: 0.7903\n",
            "Epoch 165/1000\n",
            "186/186 [==============================] - 1s 3ms/sample - loss: 0.4832 - acc: 0.8065 - val_loss: 0.5846 - val_acc: 0.7903\n",
            "Epoch 166/1000\n",
            "186/186 [==============================] - 1s 3ms/sample - loss: 0.4820 - acc: 0.8011 - val_loss: 0.5839 - val_acc: 0.7903\n",
            "Epoch 167/1000\n",
            "186/186 [==============================] - 1s 3ms/sample - loss: 0.4808 - acc: 0.8065 - val_loss: 0.5831 - val_acc: 0.7903\n",
            "Epoch 168/1000\n",
            "186/186 [==============================] - 1s 3ms/sample - loss: 0.4797 - acc: 0.8065 - val_loss: 0.5824 - val_acc: 0.7903\n",
            "Epoch 169/1000\n",
            "186/186 [==============================] - 1s 3ms/sample - loss: 0.4785 - acc: 0.8011 - val_loss: 0.5817 - val_acc: 0.7903\n",
            "Epoch 170/1000\n",
            "186/186 [==============================] - 1s 3ms/sample - loss: 0.4774 - acc: 0.7957 - val_loss: 0.5812 - val_acc: 0.7903\n",
            "Epoch 171/1000\n",
            "186/186 [==============================] - 1s 3ms/sample - loss: 0.4762 - acc: 0.8065 - val_loss: 0.5805 - val_acc: 0.7903\n",
            "Epoch 172/1000\n",
            "186/186 [==============================] - 1s 3ms/sample - loss: 0.4751 - acc: 0.8011 - val_loss: 0.5799 - val_acc: 0.7903\n",
            "Epoch 173/1000\n",
            "186/186 [==============================] - 1s 3ms/sample - loss: 0.4739 - acc: 0.7957 - val_loss: 0.5794 - val_acc: 0.7903\n",
            "Epoch 174/1000\n",
            "186/186 [==============================] - 1s 3ms/sample - loss: 0.4728 - acc: 0.8011 - val_loss: 0.5788 - val_acc: 0.7903\n",
            "Epoch 175/1000\n",
            "186/186 [==============================] - 1s 3ms/sample - loss: 0.4716 - acc: 0.8011 - val_loss: 0.5781 - val_acc: 0.7903\n",
            "Epoch 176/1000\n",
            "186/186 [==============================] - 1s 3ms/sample - loss: 0.4705 - acc: 0.8011 - val_loss: 0.5772 - val_acc: 0.7903\n",
            "Epoch 177/1000\n",
            "186/186 [==============================] - 1s 3ms/sample - loss: 0.4695 - acc: 0.8065 - val_loss: 0.5766 - val_acc: 0.7903\n",
            "Epoch 178/1000\n",
            "186/186 [==============================] - 1s 3ms/sample - loss: 0.4684 - acc: 0.8011 - val_loss: 0.5760 - val_acc: 0.7903\n",
            "Epoch 179/1000\n",
            "186/186 [==============================] - 1s 3ms/sample - loss: 0.4673 - acc: 0.8065 - val_loss: 0.5754 - val_acc: 0.7903\n",
            "Epoch 180/1000\n",
            "186/186 [==============================] - 1s 3ms/sample - loss: 0.4662 - acc: 0.8065 - val_loss: 0.5749 - val_acc: 0.7903\n",
            "Epoch 181/1000\n",
            "186/186 [==============================] - 1s 3ms/sample - loss: 0.4651 - acc: 0.8065 - val_loss: 0.5742 - val_acc: 0.7903\n",
            "Epoch 182/1000\n",
            "186/186 [==============================] - 0s 3ms/sample - loss: 0.4641 - acc: 0.8065 - val_loss: 0.5737 - val_acc: 0.7903\n",
            "Epoch 183/1000\n",
            "186/186 [==============================] - 1s 3ms/sample - loss: 0.4630 - acc: 0.8011 - val_loss: 0.5731 - val_acc: 0.8065\n",
            "Epoch 184/1000\n",
            "186/186 [==============================] - 1s 3ms/sample - loss: 0.4620 - acc: 0.8011 - val_loss: 0.5725 - val_acc: 0.8065\n",
            "Epoch 185/1000\n",
            "186/186 [==============================] - 1s 3ms/sample - loss: 0.4609 - acc: 0.8065 - val_loss: 0.5720 - val_acc: 0.8065\n",
            "Epoch 186/1000\n",
            "186/186 [==============================] - 1s 3ms/sample - loss: 0.4598 - acc: 0.8065 - val_loss: 0.5715 - val_acc: 0.8065\n",
            "Epoch 187/1000\n",
            "186/186 [==============================] - 1s 3ms/sample - loss: 0.4588 - acc: 0.8065 - val_loss: 0.5710 - val_acc: 0.8065\n",
            "Epoch 188/1000\n",
            "186/186 [==============================] - 1s 3ms/sample - loss: 0.4577 - acc: 0.8011 - val_loss: 0.5706 - val_acc: 0.7903\n",
            "Epoch 189/1000\n",
            "186/186 [==============================] - 1s 3ms/sample - loss: 0.4567 - acc: 0.8011 - val_loss: 0.5699 - val_acc: 0.8065\n",
            "Epoch 190/1000\n",
            "186/186 [==============================] - 1s 3ms/sample - loss: 0.4557 - acc: 0.8065 - val_loss: 0.5694 - val_acc: 0.8065\n",
            "Epoch 191/1000\n",
            "186/186 [==============================] - 1s 3ms/sample - loss: 0.4546 - acc: 0.8011 - val_loss: 0.5688 - val_acc: 0.8065\n",
            "Epoch 192/1000\n",
            "186/186 [==============================] - 1s 3ms/sample - loss: 0.4537 - acc: 0.8065 - val_loss: 0.5684 - val_acc: 0.8065\n",
            "Epoch 193/1000\n",
            "186/186 [==============================] - 1s 3ms/sample - loss: 0.4527 - acc: 0.8011 - val_loss: 0.5681 - val_acc: 0.8065\n",
            "Epoch 194/1000\n",
            "186/186 [==============================] - 1s 3ms/sample - loss: 0.4517 - acc: 0.8065 - val_loss: 0.5676 - val_acc: 0.8065\n",
            "Epoch 195/1000\n",
            "186/186 [==============================] - 1s 3ms/sample - loss: 0.4507 - acc: 0.8065 - val_loss: 0.5671 - val_acc: 0.8065\n",
            "Epoch 196/1000\n",
            "186/186 [==============================] - 1s 3ms/sample - loss: 0.4498 - acc: 0.8065 - val_loss: 0.5668 - val_acc: 0.8065\n",
            "Epoch 197/1000\n",
            "186/186 [==============================] - 1s 3ms/sample - loss: 0.4487 - acc: 0.8011 - val_loss: 0.5663 - val_acc: 0.8065\n",
            "Epoch 198/1000\n",
            "186/186 [==============================] - 1s 3ms/sample - loss: 0.4478 - acc: 0.8011 - val_loss: 0.5657 - val_acc: 0.8065\n",
            "Epoch 199/1000\n",
            "186/186 [==============================] - 0s 3ms/sample - loss: 0.4469 - acc: 0.8011 - val_loss: 0.5652 - val_acc: 0.8065\n",
            "Epoch 200/1000\n",
            "186/186 [==============================] - 1s 3ms/sample - loss: 0.4459 - acc: 0.8011 - val_loss: 0.5645 - val_acc: 0.8065\n",
            "Epoch 201/1000\n",
            "186/186 [==============================] - 1s 3ms/sample - loss: 0.4450 - acc: 0.8011 - val_loss: 0.5641 - val_acc: 0.8065\n",
            "Epoch 202/1000\n",
            "186/186 [==============================] - 1s 3ms/sample - loss: 0.4439 - acc: 0.8011 - val_loss: 0.5636 - val_acc: 0.8065\n",
            "Epoch 203/1000\n",
            "186/186 [==============================] - 1s 3ms/sample - loss: 0.4431 - acc: 0.8118 - val_loss: 0.5633 - val_acc: 0.8065\n",
            "Epoch 204/1000\n",
            "186/186 [==============================] - 1s 3ms/sample - loss: 0.4421 - acc: 0.7957 - val_loss: 0.5628 - val_acc: 0.8065\n",
            "Epoch 205/1000\n",
            "186/186 [==============================] - 1s 3ms/sample - loss: 0.4412 - acc: 0.8065 - val_loss: 0.5622 - val_acc: 0.8065\n",
            "Epoch 206/1000\n",
            "186/186 [==============================] - 1s 3ms/sample - loss: 0.4402 - acc: 0.8011 - val_loss: 0.5615 - val_acc: 0.8065\n",
            "Epoch 207/1000\n",
            "186/186 [==============================] - 1s 3ms/sample - loss: 0.4394 - acc: 0.8011 - val_loss: 0.5614 - val_acc: 0.8065\n",
            "Epoch 208/1000\n",
            "186/186 [==============================] - 1s 3ms/sample - loss: 0.4384 - acc: 0.8011 - val_loss: 0.5607 - val_acc: 0.8065\n",
            "Epoch 209/1000\n",
            "186/186 [==============================] - 1s 3ms/sample - loss: 0.4375 - acc: 0.8065 - val_loss: 0.5602 - val_acc: 0.8065\n",
            "Epoch 210/1000\n",
            "186/186 [==============================] - 1s 3ms/sample - loss: 0.4366 - acc: 0.8118 - val_loss: 0.5602 - val_acc: 0.8065\n",
            "Epoch 211/1000\n",
            "186/186 [==============================] - 1s 3ms/sample - loss: 0.4357 - acc: 0.8118 - val_loss: 0.5600 - val_acc: 0.8226\n",
            "Epoch 212/1000\n",
            "186/186 [==============================] - 1s 3ms/sample - loss: 0.4349 - acc: 0.8065 - val_loss: 0.5595 - val_acc: 0.8226\n",
            "Epoch 213/1000\n",
            "186/186 [==============================] - 1s 3ms/sample - loss: 0.4340 - acc: 0.8118 - val_loss: 0.5593 - val_acc: 0.8226\n",
            "Epoch 214/1000\n",
            "186/186 [==============================] - 0s 3ms/sample - loss: 0.4331 - acc: 0.7903 - val_loss: 0.5587 - val_acc: 0.8226\n",
            "Epoch 215/1000\n",
            "186/186 [==============================] - 1s 3ms/sample - loss: 0.4323 - acc: 0.8065 - val_loss: 0.5580 - val_acc: 0.8226\n",
            "Epoch 216/1000\n",
            "186/186 [==============================] - 1s 3ms/sample - loss: 0.4314 - acc: 0.8065 - val_loss: 0.5574 - val_acc: 0.8226\n",
            "Epoch 217/1000\n",
            "186/186 [==============================] - 0s 3ms/sample - loss: 0.4305 - acc: 0.8118 - val_loss: 0.5573 - val_acc: 0.8226\n",
            "Epoch 218/1000\n",
            "186/186 [==============================] - 0s 3ms/sample - loss: 0.4297 - acc: 0.8065 - val_loss: 0.5567 - val_acc: 0.8226\n",
            "Epoch 219/1000\n",
            "186/186 [==============================] - 1s 3ms/sample - loss: 0.4289 - acc: 0.8118 - val_loss: 0.5563 - val_acc: 0.8226\n",
            "Epoch 220/1000\n",
            "186/186 [==============================] - 0s 3ms/sample - loss: 0.4280 - acc: 0.8118 - val_loss: 0.5559 - val_acc: 0.8226\n",
            "Epoch 221/1000\n",
            "186/186 [==============================] - 1s 3ms/sample - loss: 0.4272 - acc: 0.8011 - val_loss: 0.5556 - val_acc: 0.8226\n",
            "Epoch 222/1000\n",
            "186/186 [==============================] - 0s 3ms/sample - loss: 0.4264 - acc: 0.8065 - val_loss: 0.5553 - val_acc: 0.8226\n",
            "Epoch 223/1000\n",
            "186/186 [==============================] - 1s 3ms/sample - loss: 0.4255 - acc: 0.8118 - val_loss: 0.5552 - val_acc: 0.8226\n",
            "Epoch 224/1000\n",
            "186/186 [==============================] - 0s 3ms/sample - loss: 0.4247 - acc: 0.8118 - val_loss: 0.5551 - val_acc: 0.8226\n",
            "Epoch 225/1000\n",
            "186/186 [==============================] - 1s 3ms/sample - loss: 0.4239 - acc: 0.8011 - val_loss: 0.5545 - val_acc: 0.8226\n",
            "Epoch 226/1000\n",
            "186/186 [==============================] - 0s 3ms/sample - loss: 0.4231 - acc: 0.8065 - val_loss: 0.5540 - val_acc: 0.8226\n",
            "Epoch 227/1000\n",
            "186/186 [==============================] - 1s 3ms/sample - loss: 0.4223 - acc: 0.8172 - val_loss: 0.5537 - val_acc: 0.8226\n",
            "Epoch 228/1000\n",
            "186/186 [==============================] - 0s 3ms/sample - loss: 0.4215 - acc: 0.8118 - val_loss: 0.5536 - val_acc: 0.8226\n",
            "Epoch 229/1000\n",
            "186/186 [==============================] - 1s 3ms/sample - loss: 0.4207 - acc: 0.8118 - val_loss: 0.5534 - val_acc: 0.8226\n",
            "Epoch 230/1000\n",
            "186/186 [==============================] - 1s 3ms/sample - loss: 0.4198 - acc: 0.8226 - val_loss: 0.5531 - val_acc: 0.8226\n",
            "Epoch 231/1000\n",
            "186/186 [==============================] - 1s 3ms/sample - loss: 0.4191 - acc: 0.8065 - val_loss: 0.5526 - val_acc: 0.8226\n",
            "Epoch 232/1000\n",
            "186/186 [==============================] - 1s 3ms/sample - loss: 0.4183 - acc: 0.8172 - val_loss: 0.5520 - val_acc: 0.8226\n",
            "Epoch 233/1000\n",
            "186/186 [==============================] - 1s 3ms/sample - loss: 0.4175 - acc: 0.8065 - val_loss: 0.5514 - val_acc: 0.8226\n",
            "Epoch 234/1000\n",
            "186/186 [==============================] - 1s 3ms/sample - loss: 0.4168 - acc: 0.8118 - val_loss: 0.5510 - val_acc: 0.8226\n",
            "Epoch 235/1000\n",
            "186/186 [==============================] - 1s 3ms/sample - loss: 0.4160 - acc: 0.8011 - val_loss: 0.5506 - val_acc: 0.8226\n",
            "Epoch 236/1000\n",
            "186/186 [==============================] - 1s 3ms/sample - loss: 0.4153 - acc: 0.8065 - val_loss: 0.5503 - val_acc: 0.8226\n",
            "Epoch 237/1000\n",
            "186/186 [==============================] - 1s 3ms/sample - loss: 0.4145 - acc: 0.8172 - val_loss: 0.5501 - val_acc: 0.8226\n",
            "Epoch 238/1000\n",
            "186/186 [==============================] - 1s 3ms/sample - loss: 0.4137 - acc: 0.8118 - val_loss: 0.5503 - val_acc: 0.8226\n",
            "Epoch 239/1000\n",
            "186/186 [==============================] - 1s 3ms/sample - loss: 0.4130 - acc: 0.8065 - val_loss: 0.5497 - val_acc: 0.8226\n",
            "Epoch 240/1000\n",
            "186/186 [==============================] - 0s 3ms/sample - loss: 0.4122 - acc: 0.8118 - val_loss: 0.5494 - val_acc: 0.8226\n",
            "Epoch 241/1000\n",
            "186/186 [==============================] - 1s 3ms/sample - loss: 0.4114 - acc: 0.8172 - val_loss: 0.5488 - val_acc: 0.8226\n",
            "Epoch 242/1000\n",
            "186/186 [==============================] - 1s 3ms/sample - loss: 0.4108 - acc: 0.8065 - val_loss: 0.5486 - val_acc: 0.8226\n",
            "Epoch 243/1000\n",
            "186/186 [==============================] - 0s 3ms/sample - loss: 0.4100 - acc: 0.8065 - val_loss: 0.5479 - val_acc: 0.8226\n",
            "Epoch 244/1000\n",
            "186/186 [==============================] - 0s 3ms/sample - loss: 0.4093 - acc: 0.8118 - val_loss: 0.5477 - val_acc: 0.8226\n",
            "Epoch 245/1000\n",
            "186/186 [==============================] - 1s 3ms/sample - loss: 0.4086 - acc: 0.8118 - val_loss: 0.5478 - val_acc: 0.8226\n",
            "Epoch 246/1000\n",
            "186/186 [==============================] - 1s 3ms/sample - loss: 0.4079 - acc: 0.8065 - val_loss: 0.5478 - val_acc: 0.8226\n",
            "Epoch 247/1000\n",
            "186/186 [==============================] - 1s 3ms/sample - loss: 0.4071 - acc: 0.8118 - val_loss: 0.5480 - val_acc: 0.8226\n",
            "Epoch 248/1000\n",
            "186/186 [==============================] - 1s 3ms/sample - loss: 0.4064 - acc: 0.8118 - val_loss: 0.5476 - val_acc: 0.8226\n",
            "Epoch 249/1000\n",
            "186/186 [==============================] - 1s 3ms/sample - loss: 0.4057 - acc: 0.8118 - val_loss: 0.5472 - val_acc: 0.8226\n",
            "Epoch 250/1000\n",
            "186/186 [==============================] - 1s 3ms/sample - loss: 0.4051 - acc: 0.8065 - val_loss: 0.5467 - val_acc: 0.8226\n",
            "Epoch 251/1000\n",
            "186/186 [==============================] - 1s 3ms/sample - loss: 0.4043 - acc: 0.8118 - val_loss: 0.5461 - val_acc: 0.8226\n",
            "Epoch 252/1000\n",
            "186/186 [==============================] - 1s 3ms/sample - loss: 0.4037 - acc: 0.8118 - val_loss: 0.5459 - val_acc: 0.8226\n",
            "Epoch 253/1000\n",
            "186/186 [==============================] - 1s 3ms/sample - loss: 0.4029 - acc: 0.8118 - val_loss: 0.5455 - val_acc: 0.8226\n",
            "Epoch 254/1000\n",
            "186/186 [==============================] - 1s 3ms/sample - loss: 0.4023 - acc: 0.8118 - val_loss: 0.5451 - val_acc: 0.8226\n",
            "Epoch 255/1000\n",
            "186/186 [==============================] - 1s 3ms/sample - loss: 0.4016 - acc: 0.8118 - val_loss: 0.5446 - val_acc: 0.8226\n",
            "Epoch 256/1000\n",
            "186/186 [==============================] - 1s 3ms/sample - loss: 0.4008 - acc: 0.8118 - val_loss: 0.5448 - val_acc: 0.8226\n",
            "Epoch 257/1000\n",
            "186/186 [==============================] - 0s 3ms/sample - loss: 0.4002 - acc: 0.8172 - val_loss: 0.5450 - val_acc: 0.8226\n",
            "Epoch 258/1000\n",
            "186/186 [==============================] - 1s 3ms/sample - loss: 0.3996 - acc: 0.8172 - val_loss: 0.5444 - val_acc: 0.8226\n",
            "Epoch 259/1000\n",
            "186/186 [==============================] - 1s 3ms/sample - loss: 0.3989 - acc: 0.8172 - val_loss: 0.5444 - val_acc: 0.8226\n",
            "Epoch 260/1000\n",
            "186/186 [==============================] - 1s 3ms/sample - loss: 0.3983 - acc: 0.8065 - val_loss: 0.5442 - val_acc: 0.8226\n",
            "Epoch 261/1000\n",
            "186/186 [==============================] - 1s 3ms/sample - loss: 0.3976 - acc: 0.8065 - val_loss: 0.5439 - val_acc: 0.8226\n",
            "Epoch 262/1000\n",
            "186/186 [==============================] - 1s 3ms/sample - loss: 0.3970 - acc: 0.8118 - val_loss: 0.5438 - val_acc: 0.8226\n",
            "Epoch 263/1000\n",
            "186/186 [==============================] - 1s 3ms/sample - loss: 0.3963 - acc: 0.8118 - val_loss: 0.5436 - val_acc: 0.8226\n",
            "Epoch 264/1000\n",
            "186/186 [==============================] - 1s 3ms/sample - loss: 0.3957 - acc: 0.8226 - val_loss: 0.5434 - val_acc: 0.8226\n",
            "Epoch 265/1000\n",
            "186/186 [==============================] - 1s 3ms/sample - loss: 0.3950 - acc: 0.8172 - val_loss: 0.5433 - val_acc: 0.8226\n",
            "Epoch 266/1000\n",
            "186/186 [==============================] - 1s 3ms/sample - loss: 0.3943 - acc: 0.8065 - val_loss: 0.5434 - val_acc: 0.8226\n",
            "Epoch 267/1000\n",
            "186/186 [==============================] - 1s 3ms/sample - loss: 0.3938 - acc: 0.8333 - val_loss: 0.5429 - val_acc: 0.8226\n",
            "Epoch 268/1000\n",
            "186/186 [==============================] - 1s 3ms/sample - loss: 0.3931 - acc: 0.8333 - val_loss: 0.5424 - val_acc: 0.8226\n",
            "Epoch 269/1000\n",
            "186/186 [==============================] - 1s 3ms/sample - loss: 0.3925 - acc: 0.8226 - val_loss: 0.5423 - val_acc: 0.8226\n",
            "Epoch 270/1000\n",
            "186/186 [==============================] - 1s 3ms/sample - loss: 0.3918 - acc: 0.8118 - val_loss: 0.5423 - val_acc: 0.8226\n",
            "Epoch 271/1000\n",
            "186/186 [==============================] - 1s 3ms/sample - loss: 0.3913 - acc: 0.8280 - val_loss: 0.5420 - val_acc: 0.8226\n",
            "Epoch 272/1000\n",
            "186/186 [==============================] - 1s 3ms/sample - loss: 0.3907 - acc: 0.8333 - val_loss: 0.5417 - val_acc: 0.8226\n",
            "Epoch 273/1000\n",
            "186/186 [==============================] - 1s 3ms/sample - loss: 0.3901 - acc: 0.8280 - val_loss: 0.5418 - val_acc: 0.8226\n",
            "Epoch 274/1000\n",
            "186/186 [==============================] - 1s 3ms/sample - loss: 0.3894 - acc: 0.8226 - val_loss: 0.5422 - val_acc: 0.8226\n",
            "Epoch 275/1000\n",
            "186/186 [==============================] - 1s 3ms/sample - loss: 0.3888 - acc: 0.8172 - val_loss: 0.5425 - val_acc: 0.8226\n",
            "Epoch 276/1000\n",
            "186/186 [==============================] - 1s 3ms/sample - loss: 0.3883 - acc: 0.8333 - val_loss: 0.5418 - val_acc: 0.8226\n",
            "Epoch 277/1000\n",
            "186/186 [==============================] - 1s 3ms/sample - loss: 0.3877 - acc: 0.8226 - val_loss: 0.5413 - val_acc: 0.8226\n",
            "Epoch 278/1000\n",
            "186/186 [==============================] - 1s 3ms/sample - loss: 0.3870 - acc: 0.8280 - val_loss: 0.5414 - val_acc: 0.8226\n",
            "Epoch 279/1000\n",
            "186/186 [==============================] - 1s 3ms/sample - loss: 0.3865 - acc: 0.8333 - val_loss: 0.5414 - val_acc: 0.8226\n",
            "Epoch 280/1000\n",
            "186/186 [==============================] - 1s 3ms/sample - loss: 0.3859 - acc: 0.8333 - val_loss: 0.5406 - val_acc: 0.8226\n",
            "Epoch 281/1000\n",
            "186/186 [==============================] - 1s 3ms/sample - loss: 0.3852 - acc: 0.8333 - val_loss: 0.5409 - val_acc: 0.8226\n",
            "Epoch 282/1000\n",
            "186/186 [==============================] - 1s 3ms/sample - loss: 0.3847 - acc: 0.8333 - val_loss: 0.5405 - val_acc: 0.8226\n",
            "Epoch 283/1000\n",
            "186/186 [==============================] - 1s 3ms/sample - loss: 0.3841 - acc: 0.8333 - val_loss: 0.5400 - val_acc: 0.8226\n",
            "Epoch 284/1000\n",
            "186/186 [==============================] - 0s 3ms/sample - loss: 0.3836 - acc: 0.8333 - val_loss: 0.5400 - val_acc: 0.8226\n",
            "Epoch 285/1000\n",
            "186/186 [==============================] - 1s 3ms/sample - loss: 0.3829 - acc: 0.8333 - val_loss: 0.5396 - val_acc: 0.8226\n",
            "Epoch 286/1000\n",
            "186/186 [==============================] - 1s 3ms/sample - loss: 0.3824 - acc: 0.8333 - val_loss: 0.5394 - val_acc: 0.8226\n",
            "Epoch 287/1000\n",
            "186/186 [==============================] - 1s 3ms/sample - loss: 0.3818 - acc: 0.8333 - val_loss: 0.5387 - val_acc: 0.8226\n",
            "Epoch 288/1000\n",
            "186/186 [==============================] - 0s 3ms/sample - loss: 0.3813 - acc: 0.8280 - val_loss: 0.5392 - val_acc: 0.8226\n",
            "Epoch 289/1000\n",
            "186/186 [==============================] - 1s 3ms/sample - loss: 0.3807 - acc: 0.8333 - val_loss: 0.5390 - val_acc: 0.8226\n",
            "Epoch 290/1000\n",
            "186/186 [==============================] - 1s 3ms/sample - loss: 0.3801 - acc: 0.8333 - val_loss: 0.5385 - val_acc: 0.8226\n",
            "Epoch 291/1000\n",
            "186/186 [==============================] - 1s 3ms/sample - loss: 0.3796 - acc: 0.8280 - val_loss: 0.5390 - val_acc: 0.8226\n",
            "Epoch 292/1000\n",
            "186/186 [==============================] - 1s 3ms/sample - loss: 0.3790 - acc: 0.8333 - val_loss: 0.5386 - val_acc: 0.8226\n",
            "Epoch 293/1000\n",
            "186/186 [==============================] - 1s 3ms/sample - loss: 0.3785 - acc: 0.8333 - val_loss: 0.5381 - val_acc: 0.8226\n",
            "Epoch 294/1000\n",
            "186/186 [==============================] - 0s 3ms/sample - loss: 0.3780 - acc: 0.8333 - val_loss: 0.5383 - val_acc: 0.8226\n",
            "Epoch 295/1000\n",
            "186/186 [==============================] - 1s 3ms/sample - loss: 0.3776 - acc: 0.8280 - val_loss: 0.5384 - val_acc: 0.8226\n",
            "Epoch 296/1000\n",
            "186/186 [==============================] - 0s 3ms/sample - loss: 0.3768 - acc: 0.8333 - val_loss: 0.5379 - val_acc: 0.8226\n",
            "Epoch 297/1000\n",
            "186/186 [==============================] - 1s 3ms/sample - loss: 0.3765 - acc: 0.8280 - val_loss: 0.5375 - val_acc: 0.8226\n",
            "Epoch 298/1000\n",
            "186/186 [==============================] - 1s 3ms/sample - loss: 0.3760 - acc: 0.8387 - val_loss: 0.5376 - val_acc: 0.8226\n",
            "Epoch 299/1000\n",
            "186/186 [==============================] - 1s 3ms/sample - loss: 0.3754 - acc: 0.8441 - val_loss: 0.5377 - val_acc: 0.8226\n",
            "Epoch 300/1000\n",
            "186/186 [==============================] - 0s 3ms/sample - loss: 0.3749 - acc: 0.8387 - val_loss: 0.5377 - val_acc: 0.8226\n",
            "Epoch 301/1000\n",
            "186/186 [==============================] - 1s 3ms/sample - loss: 0.3743 - acc: 0.8333 - val_loss: 0.5374 - val_acc: 0.8226\n",
            "Epoch 302/1000\n",
            "186/186 [==============================] - 0s 3ms/sample - loss: 0.3738 - acc: 0.8441 - val_loss: 0.5375 - val_acc: 0.8226\n",
            "Epoch 303/1000\n",
            "186/186 [==============================] - 1s 3ms/sample - loss: 0.3733 - acc: 0.8333 - val_loss: 0.5369 - val_acc: 0.8226\n",
            "Epoch 304/1000\n",
            "186/186 [==============================] - 1s 3ms/sample - loss: 0.3728 - acc: 0.8333 - val_loss: 0.5368 - val_acc: 0.8226\n",
            "Epoch 305/1000\n",
            "186/186 [==============================] - 1s 3ms/sample - loss: 0.3724 - acc: 0.8387 - val_loss: 0.5370 - val_acc: 0.8226\n",
            "Epoch 306/1000\n",
            "186/186 [==============================] - 1s 3ms/sample - loss: 0.3718 - acc: 0.8333 - val_loss: 0.5368 - val_acc: 0.8226\n",
            "Epoch 307/1000\n",
            "186/186 [==============================] - 1s 3ms/sample - loss: 0.3714 - acc: 0.8333 - val_loss: 0.5367 - val_acc: 0.8226\n",
            "Epoch 308/1000\n",
            "186/186 [==============================] - 1s 3ms/sample - loss: 0.3709 - acc: 0.8333 - val_loss: 0.5364 - val_acc: 0.8226\n",
            "Epoch 309/1000\n",
            "186/186 [==============================] - 1s 3ms/sample - loss: 0.3704 - acc: 0.8387 - val_loss: 0.5367 - val_acc: 0.8226\n",
            "Epoch 310/1000\n",
            "186/186 [==============================] - 0s 3ms/sample - loss: 0.3698 - acc: 0.8333 - val_loss: 0.5360 - val_acc: 0.8226\n",
            "Epoch 311/1000\n",
            "186/186 [==============================] - 1s 3ms/sample - loss: 0.3694 - acc: 0.8333 - val_loss: 0.5358 - val_acc: 0.8226\n",
            "Epoch 312/1000\n",
            "186/186 [==============================] - 1s 3ms/sample - loss: 0.3689 - acc: 0.8333 - val_loss: 0.5358 - val_acc: 0.8226\n",
            "Epoch 313/1000\n",
            "186/186 [==============================] - 1s 3ms/sample - loss: 0.3684 - acc: 0.8333 - val_loss: 0.5355 - val_acc: 0.8226\n",
            "Epoch 314/1000\n",
            "186/186 [==============================] - 1s 3ms/sample - loss: 0.3679 - acc: 0.8387 - val_loss: 0.5355 - val_acc: 0.8226\n",
            "Epoch 315/1000\n",
            "186/186 [==============================] - 1s 3ms/sample - loss: 0.3675 - acc: 0.8333 - val_loss: 0.5356 - val_acc: 0.8226\n",
            "Epoch 316/1000\n",
            "186/186 [==============================] - 1s 3ms/sample - loss: 0.3670 - acc: 0.8333 - val_loss: 0.5355 - val_acc: 0.8226\n",
            "Epoch 317/1000\n",
            "186/186 [==============================] - 1s 3ms/sample - loss: 0.3666 - acc: 0.8387 - val_loss: 0.5356 - val_acc: 0.8226\n",
            "Epoch 318/1000\n",
            "186/186 [==============================] - 1s 3ms/sample - loss: 0.3661 - acc: 0.8387 - val_loss: 0.5358 - val_acc: 0.8226\n",
            "Epoch 319/1000\n",
            "186/186 [==============================] - 1s 3ms/sample - loss: 0.3656 - acc: 0.8387 - val_loss: 0.5354 - val_acc: 0.8226\n",
            "Epoch 320/1000\n",
            "186/186 [==============================] - 1s 3ms/sample - loss: 0.3652 - acc: 0.8387 - val_loss: 0.5351 - val_acc: 0.8226\n",
            "Epoch 321/1000\n",
            "186/186 [==============================] - 1s 3ms/sample - loss: 0.3647 - acc: 0.8387 - val_loss: 0.5348 - val_acc: 0.8226\n",
            "Epoch 322/1000\n",
            "186/186 [==============================] - 0s 3ms/sample - loss: 0.3643 - acc: 0.8387 - val_loss: 0.5347 - val_acc: 0.8226\n",
            "Epoch 323/1000\n",
            "186/186 [==============================] - 1s 3ms/sample - loss: 0.3636 - acc: 0.8441 - val_loss: 0.5343 - val_acc: 0.8226\n",
            "Epoch 324/1000\n",
            "186/186 [==============================] - 1s 3ms/sample - loss: 0.3634 - acc: 0.8387 - val_loss: 0.5345 - val_acc: 0.8226\n",
            "Epoch 325/1000\n",
            "186/186 [==============================] - 1s 3ms/sample - loss: 0.3629 - acc: 0.8387 - val_loss: 0.5340 - val_acc: 0.8226\n",
            "Epoch 326/1000\n",
            "186/186 [==============================] - 1s 3ms/sample - loss: 0.3625 - acc: 0.8387 - val_loss: 0.5339 - val_acc: 0.8226\n",
            "Epoch 327/1000\n",
            "186/186 [==============================] - 1s 3ms/sample - loss: 0.3620 - acc: 0.8441 - val_loss: 0.5339 - val_acc: 0.8226\n",
            "Epoch 328/1000\n",
            "186/186 [==============================] - 1s 3ms/sample - loss: 0.3616 - acc: 0.8387 - val_loss: 0.5341 - val_acc: 0.8226\n",
            "Epoch 329/1000\n",
            "186/186 [==============================] - 1s 3ms/sample - loss: 0.3611 - acc: 0.8441 - val_loss: 0.5340 - val_acc: 0.8226\n",
            "Epoch 330/1000\n",
            "186/186 [==============================] - 1s 3ms/sample - loss: 0.3607 - acc: 0.8387 - val_loss: 0.5343 - val_acc: 0.8226\n",
            "Epoch 331/1000\n",
            "186/186 [==============================] - 1s 3ms/sample - loss: 0.3603 - acc: 0.8387 - val_loss: 0.5343 - val_acc: 0.8226\n",
            "Epoch 332/1000\n",
            "186/186 [==============================] - 1s 3ms/sample - loss: 0.3599 - acc: 0.8441 - val_loss: 0.5344 - val_acc: 0.8226\n",
            "Epoch 333/1000\n",
            "186/186 [==============================] - 1s 3ms/sample - loss: 0.3594 - acc: 0.8387 - val_loss: 0.5341 - val_acc: 0.8226\n",
            "Epoch 334/1000\n",
            "186/186 [==============================] - 1s 3ms/sample - loss: 0.3590 - acc: 0.8387 - val_loss: 0.5345 - val_acc: 0.8226\n",
            "Epoch 335/1000\n",
            "186/186 [==============================] - 1s 3ms/sample - loss: 0.3586 - acc: 0.8441 - val_loss: 0.5342 - val_acc: 0.8226\n",
            "Epoch 336/1000\n",
            "186/186 [==============================] - 1s 3ms/sample - loss: 0.3581 - acc: 0.8441 - val_loss: 0.5338 - val_acc: 0.8226\n",
            "Epoch 337/1000\n",
            "186/186 [==============================] - 1s 3ms/sample - loss: 0.3577 - acc: 0.8441 - val_loss: 0.5330 - val_acc: 0.8226\n",
            "Epoch 338/1000\n",
            "186/186 [==============================] - 1s 3ms/sample - loss: 0.3574 - acc: 0.8387 - val_loss: 0.5330 - val_acc: 0.8226\n",
            "Epoch 339/1000\n",
            "186/186 [==============================] - 1s 3ms/sample - loss: 0.3570 - acc: 0.8441 - val_loss: 0.5333 - val_acc: 0.8226\n",
            "Epoch 340/1000\n",
            "186/186 [==============================] - 1s 3ms/sample - loss: 0.3565 - acc: 0.8441 - val_loss: 0.5338 - val_acc: 0.8226\n",
            "Epoch 341/1000\n",
            "186/186 [==============================] - 1s 3ms/sample - loss: 0.3561 - acc: 0.8441 - val_loss: 0.5333 - val_acc: 0.8226\n",
            "Epoch 342/1000\n",
            "186/186 [==============================] - 1s 3ms/sample - loss: 0.3557 - acc: 0.8441 - val_loss: 0.5332 - val_acc: 0.8226\n",
            "Epoch 343/1000\n",
            "186/186 [==============================] - 1s 3ms/sample - loss: 0.3553 - acc: 0.8387 - val_loss: 0.5335 - val_acc: 0.8226\n",
            "Epoch 344/1000\n",
            "186/186 [==============================] - 1s 3ms/sample - loss: 0.3549 - acc: 0.8441 - val_loss: 0.5333 - val_acc: 0.8226\n",
            "Epoch 345/1000\n",
            "186/186 [==============================] - 1s 3ms/sample - loss: 0.3545 - acc: 0.8441 - val_loss: 0.5335 - val_acc: 0.8226\n",
            "Epoch 346/1000\n",
            "186/186 [==============================] - 1s 3ms/sample - loss: 0.3538 - acc: 0.8441 - val_loss: 0.5325 - val_acc: 0.8226\n",
            "Epoch 347/1000\n",
            "186/186 [==============================] - 1s 3ms/sample - loss: 0.3536 - acc: 0.8441 - val_loss: 0.5335 - val_acc: 0.8065\n",
            "Epoch 348/1000\n",
            "186/186 [==============================] - 1s 3ms/sample - loss: 0.3533 - acc: 0.8441 - val_loss: 0.5324 - val_acc: 0.8226\n",
            "Epoch 349/1000\n",
            "186/186 [==============================] - 0s 3ms/sample - loss: 0.3530 - acc: 0.8441 - val_loss: 0.5330 - val_acc: 0.8065\n",
            "Epoch 350/1000\n",
            "186/186 [==============================] - 1s 3ms/sample - loss: 0.3526 - acc: 0.8441 - val_loss: 0.5328 - val_acc: 0.8065\n",
            "Epoch 351/1000\n",
            "186/186 [==============================] - 0s 3ms/sample - loss: 0.3522 - acc: 0.8441 - val_loss: 0.5330 - val_acc: 0.8065\n",
            "Epoch 352/1000\n",
            "186/186 [==============================] - 1s 3ms/sample - loss: 0.3517 - acc: 0.8441 - val_loss: 0.5329 - val_acc: 0.8065\n",
            "Epoch 353/1000\n",
            "186/186 [==============================] - 1s 4ms/sample - loss: 0.3514 - acc: 0.8441 - val_loss: 0.5330 - val_acc: 0.8065\n",
            "Epoch 354/1000\n",
            "186/186 [==============================] - 1s 3ms/sample - loss: 0.3510 - acc: 0.8441 - val_loss: 0.5321 - val_acc: 0.8065\n",
            "Epoch 355/1000\n",
            "186/186 [==============================] - 1s 3ms/sample - loss: 0.3507 - acc: 0.8441 - val_loss: 0.5320 - val_acc: 0.8065\n",
            "Epoch 356/1000\n",
            "186/186 [==============================] - 1s 3ms/sample - loss: 0.3503 - acc: 0.8441 - val_loss: 0.5324 - val_acc: 0.8065\n",
            "Epoch 357/1000\n",
            "186/186 [==============================] - 1s 3ms/sample - loss: 0.3500 - acc: 0.8441 - val_loss: 0.5321 - val_acc: 0.8065\n",
            "Epoch 358/1000\n",
            "186/186 [==============================] - 0s 3ms/sample - loss: 0.3496 - acc: 0.8441 - val_loss: 0.5321 - val_acc: 0.8065\n",
            "Epoch 359/1000\n",
            "186/186 [==============================] - 1s 3ms/sample - loss: 0.3491 - acc: 0.8441 - val_loss: 0.5326 - val_acc: 0.8065\n",
            "Epoch 360/1000\n",
            "186/186 [==============================] - 1s 3ms/sample - loss: 0.3489 - acc: 0.8441 - val_loss: 0.5322 - val_acc: 0.8065\n",
            "Epoch 361/1000\n",
            "186/186 [==============================] - 1s 3ms/sample - loss: 0.3485 - acc: 0.8441 - val_loss: 0.5326 - val_acc: 0.8065\n",
            "Epoch 362/1000\n",
            "186/186 [==============================] - 1s 3ms/sample - loss: 0.3480 - acc: 0.8495 - val_loss: 0.5338 - val_acc: 0.8065\n",
            "Epoch 363/1000\n",
            "186/186 [==============================] - 1s 3ms/sample - loss: 0.3478 - acc: 0.8441 - val_loss: 0.5335 - val_acc: 0.8065\n",
            "Epoch 364/1000\n",
            "186/186 [==============================] - 1s 3ms/sample - loss: 0.3473 - acc: 0.8441 - val_loss: 0.5329 - val_acc: 0.8065\n",
            "Epoch 365/1000\n",
            "186/186 [==============================] - 1s 3ms/sample - loss: 0.3469 - acc: 0.8548 - val_loss: 0.5335 - val_acc: 0.8065\n"
          ],
          "name": "stdout"
        }
      ]
    },
    {
      "cell_type": "markdown",
      "metadata": {
        "id": "2Yocf1fZZ6QB",
        "colab_type": "text"
      },
      "source": [
        "### Evaluate on Test set"
      ]
    },
    {
      "cell_type": "code",
      "metadata": {
        "id": "fKgoHvhuVwvr",
        "colab_type": "code",
        "colab": {
          "base_uri": "https://localhost:8080/",
          "height": 33
        },
        "outputId": "803b469e-f944-4428-eafa-72792b794cc4"
      },
      "source": [
        "y = model.predict(x_test)\n",
        "y = y.argmax(axis=1)\n",
        "\n",
        "SGD_acc = (y==y_test).mean()\n",
        "print('Accuracy: ', (y==y_test).mean())"
      ],
      "execution_count": 17,
      "outputs": [
        {
          "output_type": "stream",
          "text": [
            "Accuracy:  0.8225806451612904\n"
          ],
          "name": "stdout"
        }
      ]
    },
    {
      "cell_type": "markdown",
      "metadata": {
        "id": "_oo2ukUFeI3T",
        "colab_type": "text"
      },
      "source": [
        "## Train Using RMSprop"
      ]
    },
    {
      "cell_type": "code",
      "metadata": {
        "id": "k5QrLvaXgd0d",
        "colab_type": "code",
        "colab": {}
      },
      "source": [
        "model2 = tf.keras.Sequential()\n",
        "\n",
        "model2.add(Dense(20, input_shape=(x_train.shape[1],), activation=tf.nn.relu))\n",
        "model2.add(Dense(3, activation='softmax'))\n"
      ],
      "execution_count": 0,
      "outputs": []
    },
    {
      "cell_type": "code",
      "metadata": {
        "id": "GsTpLcWpeRlj",
        "colab_type": "code",
        "colab": {}
      },
      "source": [
        "model2.compile(optimizer=tf.keras.optimizers.RMSprop(learning_rate=.001, momentum=.5),\n",
        "              loss=tf.keras.losses.sparse_categorical_crossentropy,\n",
        "              metrics=[\"accuracy\"])"
      ],
      "execution_count": 0,
      "outputs": []
    },
    {
      "cell_type": "code",
      "metadata": {
        "id": "nS2FaQQrfA4t",
        "colab_type": "code",
        "colab": {
          "base_uri": "https://localhost:8080/",
          "height": 716
        },
        "outputId": "6ee34666-4808-4b88-ffa3-916fc834e328"
      },
      "source": [
        "history2  = model2.fit(x=x_train, y=y_train, callbacks=[callback], batch_size=1, epochs=1000, validation_data=(x_val, y_val))"
      ],
      "execution_count": 20,
      "outputs": [
        {
          "output_type": "stream",
          "text": [
            "Train on 186 samples, validate on 62 samples\n",
            "Epoch 1/1000\n",
            "186/186 [==============================] - 1s 3ms/sample - loss: 0.9890 - acc: 0.5753 - val_loss: 0.8856 - val_acc: 0.6613\n",
            "Epoch 2/1000\n",
            "186/186 [==============================] - 1s 3ms/sample - loss: 0.7670 - acc: 0.6774 - val_loss: 0.7330 - val_acc: 0.6452\n",
            "Epoch 3/1000\n",
            "186/186 [==============================] - 1s 3ms/sample - loss: 0.6548 - acc: 0.6935 - val_loss: 0.6515 - val_acc: 0.6774\n",
            "Epoch 4/1000\n",
            "186/186 [==============================] - 1s 3ms/sample - loss: 0.5767 - acc: 0.7151 - val_loss: 0.6008 - val_acc: 0.6774\n",
            "Epoch 5/1000\n",
            "186/186 [==============================] - 1s 3ms/sample - loss: 0.5275 - acc: 0.7419 - val_loss: 0.5621 - val_acc: 0.7258\n",
            "Epoch 6/1000\n",
            "186/186 [==============================] - 1s 3ms/sample - loss: 0.4794 - acc: 0.7903 - val_loss: 0.5409 - val_acc: 0.7742\n",
            "Epoch 7/1000\n",
            "186/186 [==============================] - 1s 3ms/sample - loss: 0.4407 - acc: 0.8118 - val_loss: 0.5342 - val_acc: 0.7581\n",
            "Epoch 8/1000\n",
            "186/186 [==============================] - 1s 3ms/sample - loss: 0.4101 - acc: 0.8118 - val_loss: 0.5241 - val_acc: 0.7742\n",
            "Epoch 9/1000\n",
            "186/186 [==============================] - 1s 3ms/sample - loss: 0.3811 - acc: 0.8226 - val_loss: 0.5314 - val_acc: 0.7903\n",
            "Epoch 10/1000\n",
            "186/186 [==============================] - 1s 3ms/sample - loss: 0.3597 - acc: 0.8333 - val_loss: 0.5103 - val_acc: 0.7903\n",
            "Epoch 11/1000\n",
            "186/186 [==============================] - 1s 3ms/sample - loss: 0.3474 - acc: 0.8387 - val_loss: 0.4999 - val_acc: 0.7903\n",
            "Epoch 12/1000\n",
            "186/186 [==============================] - 1s 3ms/sample - loss: 0.3290 - acc: 0.8495 - val_loss: 0.5060 - val_acc: 0.7903\n",
            "Epoch 13/1000\n",
            "186/186 [==============================] - 1s 3ms/sample - loss: 0.3186 - acc: 0.8548 - val_loss: 0.5028 - val_acc: 0.7903\n",
            "Epoch 14/1000\n",
            "186/186 [==============================] - 1s 3ms/sample - loss: 0.3120 - acc: 0.8656 - val_loss: 0.5309 - val_acc: 0.7419\n",
            "Epoch 15/1000\n",
            "186/186 [==============================] - 1s 3ms/sample - loss: 0.3053 - acc: 0.8656 - val_loss: 0.5369 - val_acc: 0.7419\n",
            "Epoch 16/1000\n",
            "186/186 [==============================] - 1s 3ms/sample - loss: 0.2991 - acc: 0.8763 - val_loss: 0.5484 - val_acc: 0.7419\n",
            "Epoch 17/1000\n",
            "186/186 [==============================] - 1s 3ms/sample - loss: 0.2936 - acc: 0.8763 - val_loss: 0.5435 - val_acc: 0.7581\n",
            "Epoch 18/1000\n",
            "186/186 [==============================] - 1s 3ms/sample - loss: 0.2897 - acc: 0.8656 - val_loss: 0.5282 - val_acc: 0.7581\n",
            "Epoch 19/1000\n",
            "186/186 [==============================] - 1s 3ms/sample - loss: 0.2893 - acc: 0.8710 - val_loss: 0.5339 - val_acc: 0.7742\n",
            "Epoch 20/1000\n",
            "186/186 [==============================] - 1s 3ms/sample - loss: 0.2914 - acc: 0.8710 - val_loss: 0.5462 - val_acc: 0.7581\n",
            "Epoch 21/1000\n",
            "186/186 [==============================] - 1s 3ms/sample - loss: 0.2841 - acc: 0.8817 - val_loss: 0.5435 - val_acc: 0.7581\n"
          ],
          "name": "stdout"
        }
      ]
    },
    {
      "cell_type": "markdown",
      "metadata": {
        "id": "T07sv62kgoWL",
        "colab_type": "text"
      },
      "source": [
        "### Evaluate on Test set"
      ]
    },
    {
      "cell_type": "code",
      "metadata": {
        "id": "KOjC-M4ngmBC",
        "colab_type": "code",
        "colab": {
          "base_uri": "https://localhost:8080/",
          "height": 33
        },
        "outputId": "25922ef9-2664-40be-f31e-48bba0bb3f8c"
      },
      "source": [
        "y = model2.predict(x_test)\n",
        "y = y.argmax(axis=1)\n",
        "\n",
        "RMS_acc = (y==y_test).mean()\n",
        "print('Accuracy: ', (y==y_test).mean())"
      ],
      "execution_count": 21,
      "outputs": [
        {
          "output_type": "stream",
          "text": [
            "Accuracy:  0.8709677419354839\n"
          ],
          "name": "stdout"
        }
      ]
    },
    {
      "cell_type": "markdown",
      "metadata": {
        "id": "iWOMao5qk751",
        "colab_type": "text"
      },
      "source": [
        "## Train Using PSO"
      ]
    },
    {
      "cell_type": "code",
      "metadata": {
        "id": "L3BSOAUNk_m_",
        "colab_type": "code",
        "colab": {
          "base_uri": "https://localhost:8080/",
          "height": 330
        },
        "outputId": "22b8af9e-4aac-4fad-d2c2-91ad6a544fda"
      },
      "source": [
        "!pip install pyswarms\n",
        "\n",
        "# Import PySwarms\n",
        "import pyswarms as ps\n",
        "\n",
        "# Some more magic so that the notebook will reload external python modules;\n",
        "# see http://stackoverflow.com/questions/1907993/autoreload-of-modules-in-ipython\n",
        "%load_ext autoreload\n",
        "%autoreload 2"
      ],
      "execution_count": 22,
      "outputs": [
        {
          "output_type": "stream",
          "text": [
            "Collecting pyswarms\n",
            "\u001b[?25l  Downloading https://files.pythonhosted.org/packages/0b/6f/42605c4e111a08a8fbaba953d0783c56ad2913ffa5959bdac53f649502a2/pyswarms-1.1.0-py2.py3-none-any.whl (96kB)\n",
            "\u001b[K     |████████████████████████████████| 102kB 3.2MB/s \n",
            "\u001b[?25hRequirement already satisfied: tqdm in /usr/local/lib/python3.6/dist-packages (from pyswarms) (4.28.1)\n",
            "Requirement already satisfied: scipy in /usr/local/lib/python3.6/dist-packages (from pyswarms) (1.3.3)\n",
            "Requirement already satisfied: numpy in /usr/local/lib/python3.6/dist-packages (from pyswarms) (1.17.4)\n",
            "Requirement already satisfied: matplotlib>=1.3.1 in /usr/local/lib/python3.6/dist-packages (from pyswarms) (3.1.2)\n",
            "Requirement already satisfied: future in /usr/local/lib/python3.6/dist-packages (from pyswarms) (0.16.0)\n",
            "Requirement already satisfied: attrs in /usr/local/lib/python3.6/dist-packages (from pyswarms) (19.3.0)\n",
            "Requirement already satisfied: pyparsing!=2.0.4,!=2.1.2,!=2.1.6,>=2.0.1 in /usr/local/lib/python3.6/dist-packages (from matplotlib>=1.3.1->pyswarms) (2.4.5)\n",
            "Requirement already satisfied: python-dateutil>=2.1 in /usr/local/lib/python3.6/dist-packages (from matplotlib>=1.3.1->pyswarms) (2.6.1)\n",
            "Requirement already satisfied: kiwisolver>=1.0.1 in /usr/local/lib/python3.6/dist-packages (from matplotlib>=1.3.1->pyswarms) (1.1.0)\n",
            "Requirement already satisfied: cycler>=0.10 in /usr/local/lib/python3.6/dist-packages (from matplotlib>=1.3.1->pyswarms) (0.10.0)\n",
            "Requirement already satisfied: six>=1.5 in /usr/local/lib/python3.6/dist-packages (from python-dateutil>=2.1->matplotlib>=1.3.1->pyswarms) (1.12.0)\n",
            "Requirement already satisfied: setuptools in /usr/local/lib/python3.6/dist-packages (from kiwisolver>=1.0.1->matplotlib>=1.3.1->pyswarms) (42.0.1)\n",
            "Installing collected packages: pyswarms\n",
            "Successfully installed pyswarms-1.1.0\n"
          ],
          "name": "stdout"
        },
        {
          "output_type": "stream",
          "text": [
            "2019-12-09 04:58:50,013 - numexpr.utils - INFO - NumExpr defaulting to 2 threads.\n"
          ],
          "name": "stderr"
        }
      ]
    },
    {
      "cell_type": "markdown",
      "metadata": {
        "id": "PODuhn2plT9I",
        "colab_type": "text"
      },
      "source": [
        "### Initialization"
      ]
    },
    {
      "cell_type": "code",
      "metadata": {
        "id": "AJR8ly88lZui",
        "colab_type": "code",
        "colab": {}
      },
      "source": [
        "# Neural network architecture\n",
        "n_inputs = 6\n",
        "n_hidden = 20\n",
        "n_classes = 3\n",
        "\n",
        "pos_best_val = np.zeros((n_inputs*n_hidden + n_hidden + n_hidden*n_classes + n_classes), dtype=np.float32)\n",
        "loss_best_val = float('inf')\n",
        "\n",
        "PSO_train_acc = []\n",
        "PSO_val_acc = []"
      ],
      "execution_count": 0,
      "outputs": []
    },
    {
      "cell_type": "markdown",
      "metadata": {
        "id": "XhjUw0AOlj40",
        "colab_type": "text"
      },
      "source": [
        "### Functions"
      ]
    },
    {
      "cell_type": "code",
      "metadata": {
        "id": "RZqFlz4rmE8i",
        "colab_type": "code",
        "colab": {}
      },
      "source": [
        "def roll_back_weights_biases(params):\n",
        "  start = 0\n",
        "  W1 = params[0:n_inputs * n_hidden].reshape((n_inputs,n_hidden))\n",
        "  start += n_inputs * n_hidden\n",
        "  b1 = params[start:start + n_hidden].reshape((n_hidden,))\n",
        "  start += n_hidden\n",
        "  W2 = params[start:start + n_hidden * n_classes].reshape((n_hidden,n_classes))\n",
        "  start += n_hidden * n_classes\n",
        "  b2 = params[start:start + n_classes].reshape((n_classes,))\n",
        "  \n",
        "  return (W1, b1, W2, b2)"
      ],
      "execution_count": 0,
      "outputs": []
    },
    {
      "cell_type": "code",
      "metadata": {
        "id": "igrOEjC5mtaa",
        "colab_type": "code",
        "colab": {}
      },
      "source": [
        "def forward_prop(X, params):\n",
        "  # Roll-back the weights and biases\n",
        "  W1, b1, W2, b2 = roll_back_weights_biases(params)\n",
        "  # Perform forward propagation\n",
        "  z1 = X.dot(W1) + b1  # Pre-activation in Layer 1\n",
        "  a1 = np.tanh(z1)     # Activation in Layer 1\n",
        "  z2 = a1.dot(W2) + b2 # Pre-activation in Layer 2\n",
        "  logits = z2          # Logits for Layer 2\n",
        "\n",
        "  return logits"
      ],
      "execution_count": 0,
      "outputs": []
    },
    {
      "cell_type": "code",
      "metadata": {
        "id": "sK8sLnnBlpQs",
        "colab_type": "code",
        "colab": {}
      },
      "source": [
        "# Forward propagation\n",
        "def calc_loss(X, y, params):\n",
        "  logits = forward_prop(X, params)\n",
        "    \n",
        "  # Compute for the softmax of the logits\n",
        "  exp_scores = np.exp(logits)\n",
        "  probs = exp_scores / np.sum(exp_scores, axis=1, keepdims=True)\n",
        "\n",
        "  # Compute for the negative log likelihood\n",
        "  N = X.shape[0] # Number of samples\n",
        "  corect_logprobs = -np.log(probs[range(N), y])\n",
        "  loss = np.sum(corect_logprobs) / N\n",
        "\n",
        "  return loss"
      ],
      "execution_count": 0,
      "outputs": []
    },
    {
      "cell_type": "code",
      "metadata": {
        "id": "850HaJIKlu7T",
        "colab_type": "code",
        "colab": {}
      },
      "source": [
        "def predict(X, params):\n",
        "\n",
        "    logits = forward_prop(X, params)\n",
        "\n",
        "    y_pred = np.argmax(logits, axis=1)\n",
        "    return y_pred"
      ],
      "execution_count": 0,
      "outputs": []
    },
    {
      "cell_type": "code",
      "metadata": {
        "id": "SZaOywtuoWuC",
        "colab_type": "code",
        "colab": {}
      },
      "source": [
        "def f(x):\n",
        "    \"\"\"Higher-level method to do forward_prop in the\n",
        "    whole swarm.\n",
        "\n",
        "    Inputs\n",
        "    ------\n",
        "    x: numpy.ndarray of shape (n_particles, dimensions)\n",
        "        The swarm that will perform the search\n",
        "\n",
        "    Returns\n",
        "    -------\n",
        "    numpy.ndarray of shape (n_particles, )\n",
        "        The computed loss for each particle\n",
        "    \"\"\"\n",
        "    n_particles = x.shape[0]\n",
        "    j = [calc_loss(x_train, y_train, x[i]) for i in range(n_particles)]\n",
        "\n",
        "    # calc accuracy\n",
        "    idx = np.argmin(j)\n",
        "\n",
        "    global PSO_train_acc, PSO_val_acc\n",
        "\n",
        "    acc_ = np.mean(predict(x_train, x[idx]) == y_train)\n",
        "    PSO_train_acc.append(acc_)\n",
        "\n",
        "    acc_ = np.mean(predict(x_val, x[idx]) == y_val)\n",
        "    PSO_val_acc.append(acc_)\n",
        "\n",
        "    # calculate validation loss\n",
        "    global pos_best_val\n",
        "    global loss_best_val\n",
        "    loss = calc_loss(x_val, y_val, x[idx])\n",
        "    if loss < loss_best_val:\n",
        "       loss_best_val = loss\n",
        "       pos_best_val = np.array(x[idx])\n",
        "\n",
        "\n",
        "    return np.array(j)"
      ],
      "execution_count": 0,
      "outputs": []
    },
    {
      "cell_type": "code",
      "metadata": {
        "colab_type": "code",
        "id": "n5qkdgPQ0ss3",
        "colab": {
          "base_uri": "https://localhost:8080/",
          "height": 898
        },
        "outputId": "791aa95b-b210-400c-fb8c-f9bbaea20ad3"
      },
      "source": [
        "# Initialize swarm\n",
        "options = {'c1': 0.5, 'c2': 0.3, 'w':0.9}\n",
        "loss_best_val = float('inf')\n",
        "\n",
        "PSO_train_acc = []\n",
        "PSO_val_acc = []\n",
        "\n",
        "\n",
        "# Call instance of PSO\n",
        "dimensions = (n_inputs * n_hidden) + (n_hidden * n_classes) + n_hidden + n_classes\n",
        "optimizer = ps.single.GlobalBestPSO(n_particles=200, dimensions=dimensions, options=options)\n",
        "# Perform optimization\n",
        "cost, pos = optimizer.optimize(f, iters=250)"
      ],
      "execution_count": 29,
      "outputs": [
        {
          "output_type": "stream",
          "text": [
            "2019-12-09 04:58:51,203 - pyswarms.single.global_best - INFO - Optimize for 250 iters with {'c1': 0.5, 'c2': 0.3, 'w': 0.9}\n",
            "pyswarms.single.global_best: 100%|██████████|250/250, best_cost=0.199\n",
            "2019-12-09 04:59:05,485 - pyswarms.single.global_best - INFO - Optimization finished | best cost: 0.19890208919300226, best pos: [ 1.72996620e+00 -7.80805896e-01  1.47210561e+00  1.48939728e+00\n",
            "  2.26940577e+00  1.93580936e+00 -2.57351726e+00  1.87799849e+00\n",
            "  1.70826077e+00  5.71940376e-01  1.63642182e+00  9.98293736e-03\n",
            " -2.36046759e-01 -4.11332227e-01  1.18920574e+00 -1.66338079e+00\n",
            "  1.75346874e+00  8.65409724e-01  1.62696958e+00  4.69053597e-01\n",
            "  1.11570323e+00 -3.71460853e+00  1.80379566e+00  9.25533581e-01\n",
            " -3.67714993e-01 -3.47164266e-01  6.56442192e-01 -2.91056151e-02\n",
            "  3.36965738e+00  7.44134981e-01  2.40427581e+00  2.06508892e+00\n",
            " -4.50623782e-01  1.88491402e+00  7.91494837e-01  3.06991562e+00\n",
            "  1.67028050e+00  2.07284846e+00 -1.37409152e+00 -1.12115690e+00\n",
            " -5.52684301e+00 -1.87515234e-01 -2.06771736e+00  7.94847226e-01\n",
            "  1.07089990e+00  6.32573609e-01  8.64179716e-01  7.29711444e-01\n",
            "  1.75333451e+00  7.70719830e-01 -1.76650916e+00  5.37001166e-01\n",
            "  3.61645940e+00 -3.49108082e-01 -6.22965054e-01 -1.16070145e+00\n",
            "  1.00419636e+00 -1.31911313e+00 -5.86361018e-01  2.08386875e+00\n",
            "  5.08458802e-02  5.01792887e-01 -2.70838751e+00 -7.91474681e-01\n",
            "  6.88931460e-01  1.67478323e-01  1.38802640e+00 -1.38606114e-01\n",
            "  2.12122284e+00  1.65028343e+00  1.84888767e-01  5.86027581e+00\n",
            "  4.42561562e-01  2.45996058e-01  1.81747873e+00 -1.33296443e+00\n",
            " -9.33728098e-01 -1.64614927e+00  6.34252628e-01  2.41724064e+00\n",
            "  2.84128398e-01 -2.56582563e+00 -1.26175661e+00  3.06555465e+00\n",
            " -8.73226692e-01 -4.37248496e-02  9.86178632e-01  7.74678677e-01\n",
            " -1.64843211e+00  2.48900515e+00 -4.01559425e+00  3.16601214e+00\n",
            "  2.47545499e+00  4.77043364e+00  3.67642942e+00 -1.25215151e+00\n",
            " -2.88695290e+01  6.35774165e+00  7.61686042e-02  1.41367499e+00\n",
            " -1.55177790e+00 -1.22694344e+00  1.32047774e+00 -5.90863826e-01\n",
            "  1.07736837e+00  1.94624343e+00  1.89876623e+00  3.12057771e+00\n",
            "  1.12689313e+00 -2.20140584e+01  6.25300918e-02  2.64506533e-01\n",
            " -6.91939459e-01  2.03325836e+00  1.22046680e+00  1.53834676e+00\n",
            "  2.25593582e+00  5.26220082e+00  4.92793850e+00  1.25191155e-01\n",
            "  1.40905007e+00  8.20410336e-01  3.46485889e-01  1.41592057e+00\n",
            "  9.68503582e-01 -4.85903086e-01  2.13013372e+00  4.55520336e-01\n",
            "  1.45525111e+00  8.28311897e-02  1.15825899e+00  1.20617932e-02\n",
            "  2.05443707e+00  5.34322856e-01 -3.56856115e+00  7.68729463e-01\n",
            "  5.68987607e-01 -4.39850727e-01  5.30381547e-01  6.73881422e-01\n",
            "  1.13823536e+00  1.55364801e+00  8.85911423e-02 -1.09979737e-01\n",
            "  2.27261365e+00  1.37183568e+00 -6.48351196e-01 -2.51056938e+00\n",
            "  1.45105742e+00  1.30437894e+00  3.18220646e+00 -7.13157649e-02\n",
            "  1.42053624e+00 -1.83716549e-02 -1.18827783e+00 -7.29880848e-01\n",
            "  2.90320109e+00  7.02900838e-01  2.33470252e+00  4.15509517e-02\n",
            " -8.49051496e-01  7.95734955e-02  8.89649992e-01  1.71868970e+00\n",
            "  3.62147079e-01  1.05234256e+00  2.71132094e+00 -3.44144692e-03\n",
            "  1.51138149e+00 -5.28191122e-02  3.61913285e+00  1.10675747e+00\n",
            "  2.21928599e+00 -1.41497622e+00  1.24449151e+00  7.89700179e-01\n",
            " -1.21987143e+00 -3.71100762e-01  1.38035652e+00 -1.05525114e+00\n",
            "  1.29515085e-01  1.50752270e+00  1.03099629e+00 -1.16864805e+00\n",
            "  3.65939202e-01  1.79011814e+00 -6.62947746e-01  2.44176524e+00\n",
            " -9.52389870e-01 -2.45128701e+00  1.78416739e+00 -8.47382486e-01\n",
            " -4.44369870e+00  5.08222852e-01 -3.92240042e+00 -2.64280005e+00\n",
            "  7.71470190e+00  6.58026303e-01 -2.49137977e+00 -3.05358104e-01\n",
            " -3.84872861e-01  1.03350792e+00  1.33042652e+00]\n"
          ],
          "name": "stderr"
        }
      ]
    },
    {
      "cell_type": "markdown",
      "metadata": {
        "id": "1xToKNlJ0vtZ",
        "colab_type": "text"
      },
      "source": [
        "### Evaluate on Test set"
      ]
    },
    {
      "cell_type": "code",
      "metadata": {
        "id": "51QM3gGL1-e-",
        "colab_type": "code",
        "colab": {
          "base_uri": "https://localhost:8080/",
          "height": 50
        },
        "outputId": "41c6ce09-805a-4484-dc00-7e55c2f8d29f"
      },
      "source": [
        "# on best pos\n",
        "PSO_acc = (predict(x_test, pos) == y_test).mean()\n",
        "print('Accuracy: ', PSO_acc) \n",
        "\n",
        "# on best validation\n",
        "PSO_acc_best_val = (predict(x_test, pos_best_val) == y_test).mean()\n",
        "print('Accuracy best val: ', PSO_acc_best_val) "
      ],
      "execution_count": 30,
      "outputs": [
        {
          "output_type": "stream",
          "text": [
            "Accuracy:  0.8387096774193549\n",
            "Accuracy best val:  0.8548387096774194\n"
          ],
          "name": "stdout"
        }
      ]
    },
    {
      "cell_type": "markdown",
      "metadata": {
        "id": "l3zrA8Iu-L0F",
        "colab_type": "text"
      },
      "source": [
        "### Accuracy on Train adn Val"
      ]
    },
    {
      "cell_type": "code",
      "metadata": {
        "id": "R4LmJOwL-Q7U",
        "colab_type": "code",
        "colab": {
          "base_uri": "https://localhost:8080/",
          "height": 66
        },
        "outputId": "a38cf419-07c6-4b14-9732-b7aeba0bd344"
      },
      "source": [
        "print('On Best Pos')\n",
        "print('Accuracy on Train set: ', (predict(x_train, pos) == y_train).mean())\n",
        "print('Accuracy on Valid set: ', (predict(x_val, pos) == y_val).mean())"
      ],
      "execution_count": 31,
      "outputs": [
        {
          "output_type": "stream",
          "text": [
            "On Best Pos\n",
            "Accuracy on Train set:  0.8924731182795699\n",
            "Accuracy on Valid set:  0.6774193548387096\n"
          ],
          "name": "stdout"
        }
      ]
    },
    {
      "cell_type": "code",
      "metadata": {
        "id": "hDD7dTbo-m_x",
        "colab_type": "code",
        "colab": {
          "base_uri": "https://localhost:8080/",
          "height": 66
        },
        "outputId": "1a53426d-8143-41a3-aada-85d0270199bf"
      },
      "source": [
        "print('On Best Validation loss')\n",
        "print('Accuracy on Train set: ', (predict(x_train, pos_best_val) == y_train).mean())\n",
        "print('Accuracy on Valid set: ', (predict(x_val, pos_best_val) == y_val).mean())"
      ],
      "execution_count": 32,
      "outputs": [
        {
          "output_type": "stream",
          "text": [
            "On Best Validation loss\n",
            "Accuracy on Train set:  0.8172043010752689\n",
            "Accuracy on Valid set:  0.7903225806451613\n"
          ],
          "name": "stdout"
        }
      ]
    },
    {
      "cell_type": "markdown",
      "metadata": {
        "id": "7C39U8WKZ3pv",
        "colab_type": "text"
      },
      "source": [
        "# Plot Result"
      ]
    },
    {
      "cell_type": "code",
      "metadata": {
        "id": "1jKZ1B7-d1q4",
        "colab_type": "code",
        "colab": {
          "base_uri": "https://localhost:8080/",
          "height": 641
        },
        "outputId": "a73e4985-56a4-406e-985f-1cb6f0aa342f"
      },
      "source": [
        "from matplotlib import  pyplot as plt\n",
        "\n",
        "fig_size = plt.rcParams[\"figure.figsize\"]\n",
        "fig_size[0] = 20\n",
        "fig_size[1] = 10\n",
        "plt.rcParams[\"figure.figsize\"] = fig_size\n",
        "\n",
        "plt.plot(history.history['acc'])\n",
        "plt.plot(history.history['val_acc'])\n",
        "\n",
        "plt.plot(history2.history['acc'])\n",
        "plt.plot(history2.history['val_acc'])\n",
        "\n",
        "plt.plot(PSO_train_acc)\n",
        "plt.plot(PSO_val_acc)\n",
        "\n",
        "plt.title('model accuracy')\n",
        "plt.ylabel('accuracy')\n",
        "plt.xlabel('epoch')\n",
        "plt.legend(['SGD_train', 'SGD_val', 'RMS_train', 'RMS_val', 'PSO train', 'PSO_val'], loc='upper right')\n",
        "plt.show()"
      ],
      "execution_count": 33,
      "outputs": [
        {
          "output_type": "display_data",
          "data": {
            "image/png": "[encoded data removed]",
            "text/plain": [
              "<Figure size 1440x720 with 1 Axes>"
            ]
          },
          "metadata": {
            "tags": []
          }
        }
      ]
    },
    {
      "cell_type": "code",
      "metadata": {
        "id": "ktkLPy6fB2LH",
        "colab_type": "code",
        "colab": {
          "base_uri": "https://localhost:8080/",
          "height": 403
        },
        "outputId": "dfdf9194-e2eb-44f7-e1a5-17c484f1510c"
      },
      "source": [
        "from matplotlib import  pyplot as plt\n",
        "\n",
        "fig_size = plt.rcParams[\"figure.figsize\"]\n",
        "fig_size[0] = 8\n",
        "fig_size[1] = 6\n",
        "plt.rcParams[\"figure.figsize\"] = fig_size\n",
        "\n",
        "plt.scatter([1,2,3,4],[SGD_acc, RMS_acc, PSO_acc, PSO_acc_best_val], marker='o')\n",
        "plt.xticks([1,2,3,4], ['SGD', 'RMS', 'PSO', 'PSO best val'])\n",
        "\n",
        "plt.title('Test Accuracy')\n",
        "plt.ylabel('accuracy')\n",
        "plt.xlabel('method')\n",
        "\n",
        "plt.show()\n"
      ],
      "execution_count": 40,
      "outputs": [
        {
          "output_type": "display_data",
          "data": {
            "image/png": "[encoded data removed]",
            "text/plain": [
              "<Figure size 576x432 with 1 Axes>"
            ]
          },
          "metadata": {
            "tags": []
          }
        }
      ]
    },
    {
      "cell_type": "markdown",
      "metadata": {
        "id": "KhUCbNoMaBH8",
        "colab_type": "text"
      },
      "source": [
        "# Save Model"
      ]
    },
    {
      "cell_type": "code",
      "metadata": {
        "id": "2dg1-fZ9V6Az",
        "colab_type": "code",
        "colab": {}
      },
      "source": [
        "model.save_weights('/content/drive/My Drive/Kuliahku/KK/weights/SGD_weights.h5')\n",
        "model2.save_weights('/content/drive/My Drive/Kuliahku/KK/weights/RMS_weights')"
      ],
      "execution_count": 0,
      "outputs": []
    },
    {
      "cell_type": "code",
      "metadata": {
        "id": "sCnpg3-33FOZ",
        "colab_type": "code",
        "colab": {}
      },
      "source": [
        "import codecs, json\n",
        "\n",
        "file_path = \"/content/drive/My Drive/Kuliahku/KK/weights/PSO_bestpos.json\"\n",
        "json.dump(pos.tolist(), codecs.open(file_path, 'w', encoding='utf-8'), separators=(',', ':'), sort_keys=True, indent=4) ### this saves the array in .json format\n",
        "\n",
        "file_path = \"/content/drive/My Drive/Kuliahku/KK/weights/PSO_bestval.json\"\n",
        "json.dump(pos.tolist(), codecs.open(file_path, 'w', encoding='utf-8'), separators=(',', ':'), sort_keys=True, indent=4) ### this saves the array in .json format"
      ],
      "execution_count": 0,
      "outputs": []
    },
    {
      "cell_type": "markdown",
      "metadata": {
        "id": "g59F0BvpW3el",
        "colab_type": "text"
      },
      "source": [
        "## Save Classes"
      ]
    },
    {
      "cell_type": "code",
      "metadata": {
        "id": "B4V7l95mWonJ",
        "colab_type": "code",
        "colab": {}
      },
      "source": [
        "import os\n",
        "\n",
        "DATADIR = '/content/drive/My Drive/Kuliahku/KK'\n",
        "with open(os.path.join(DATADIR, 'class.txt'), 'w') as f:\n",
        "  for x in classes:\n",
        "    f.write(x+'\\n')\n"
      ],
      "execution_count": 0,
      "outputs": []
    },
    {
      "cell_type": "code",
      "metadata": {
        "id": "Z07Dc_SDXbKH",
        "colab_type": "code",
        "colab": {}
      },
      "source": [
        ""
      ],
      "execution_count": 0,
      "outputs": []
    }
  ]
}